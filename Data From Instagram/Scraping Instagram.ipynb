{
 "cells": [
  {
   "cell_type": "code",
   "execution_count": null,
   "metadata": {
    "collapsed": true
   },
   "outputs": [],
   "source": [
    "'''\n",
    "    Google Search: site:instagram.com #chicago #cafe\n",
    "    (Instagram does not allow multiple tag search)\n",
    "    Plan:\n",
    "    Enter starting page\n",
    "    Collect all links. (within h3 class='r')\n",
    "    Go to the next page (<a aria-label=\"Page N\")\n",
    "    \n",
    "    Currently too difficult for me to scrape now.\n",
    "'''\n",
    "\n",
    "html = urlopen (\"\"\"https://www.google.com/search?rlz=1C5\n",
    "                CHFA_enUS720US722&ei=_67AW-OVEanZ5gKHh\n",
    "                LawBg&q=site%3Ainstagram.com+%23chicag\n",
    "                o+%23cafe&oq=site%3Ainstagram.com+%23chi\n",
    "                cago+%23cafe&gs_l=psy-ab.3...6537.6845..\n",
    "                7097...0.0..0.74.130.2......0....1..gw\n",
    "                s-wiz.XPC2G4icbqw\"\"\")\n",
    "#bs = BeautifulSoup(html.read(), 'lxml')\n",
    "print ('')"
   ]
  }
 ],
 "metadata": {
  "kernelspec": {
   "display_name": "Python 3",
   "language": "python",
   "name": "python3"
  },
  "language_info": {
   "codemirror_mode": {
    "name": "ipython",
    "version": 3
   },
   "file_extension": ".py",
   "mimetype": "text/x-python",
   "name": "python",
   "nbconvert_exporter": "python",
   "pygments_lexer": "ipython3",
   "version": "3.6.3"
  }
 },
 "nbformat": 4,
 "nbformat_minor": 2
}
