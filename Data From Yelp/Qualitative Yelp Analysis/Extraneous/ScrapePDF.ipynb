{
 "cells": [
  {
   "cell_type": "code",
   "execution_count": 3,
   "metadata": {},
   "outputs": [
    {
     "data": {
      "text/plain": [
       "'\\n    This note book is for trying to scrape a specific PDF file. \\n    This is NOT meant to be used for anything\\n'"
      ]
     },
     "execution_count": 3,
     "metadata": {},
     "output_type": "execute_result"
    }
   ],
   "source": [
    "'''\n",
    "    This note book is for trying to scrape a specific PDF file. \n",
    "    This is NOT meant to be used for anything else.\n",
    "'''\n",
    "#import textract\n",
    "#text = textract.process(\"cafe.docx\")\n",
    "#text"
   ]
  },
  {
   "cell_type": "code",
   "execution_count": 4,
   "metadata": {
    "collapsed": true
   },
   "outputs": [],
   "source": [
    "import docx2txt\n",
    "my_text = docx2txt.process(\"cafe.docx\").lower()\n",
    "#print (type (my_text))"
   ]
  },
  {
   "cell_type": "code",
   "execution_count": 5,
   "metadata": {
    "collapsed": true
   },
   "outputs": [],
   "source": [
    "#len (my_text.split ('frequency'))\n",
    "freq_split = (my_text.split ('frequency'))"
   ]
  },
  {
   "cell_type": "code",
   "execution_count": 6,
   "metadata": {
    "collapsed": true
   },
   "outputs": [],
   "source": [
    "first100_letters = []\n",
    "for string in freq_split:\n",
    "    fix_string = string[:100].replace('\\n', ' ').replace('\\t', ' ')\n",
    "    first100_letters.append (fix_string)"
   ]
  },
  {
   "cell_type": "code",
   "execution_count": 7,
   "metadata": {},
   "outputs": [
    {
     "data": {
      "text/plain": [
       "['café info -sifted from social media & web  table of contents   bohemian neighborhood 2   wicker park',\n",
       " '      coffee  39  latte  17  friend  6  future  6  seat  6  80  6  décor  5  delicious 4  video  4  ',\n",
       " '    coffee  23  cafe  12  service  6  gallery  5  staff  5  art  4  experience 4  roast  3  vibe  3 ',\n",
       " '    book 29  coffee 17  bookstore 10  latte 9  drink 9  cafe 8  friend 7  tea 5  wi-fi 4  event 4  c',\n",
       " '      coffee  45  latte  13  friend  9  service  7  location 5  cup  5  space  4  matcha  4  interio',\n",
       " '    coffee  31  latte  23  donut  19  work  15  friend  10  laptop  5  atmosphere 4  tea  4  delicio',\n",
       " ' is placed on   ambiance. the words “work” and “friend” highlight the importance placed by consumers',\n",
       " '    coffee  42  shop  19  place  11  baristas  7  hipster  5  wi-fi  5  latte  4  service  4  locati',\n",
       " ' was given to the word   shop which implies importance placed on the shop/ purchasing opportunities ',\n",
       " '    coffee 41  brew 8  milk  8  latte 7      dollop  55 w monroe st, chicago, il 60603  loop  https:',\n",
       " '  coffee 28  dollop 14  place 13  drink 11  location 10  latte 9  barista 9         streeterville  d',\n",
       " '  coffee 19  latte 12  work 11      service 7  drink 6  love 6  location 6           cupitol  455 e ',\n",
       " '  food 25  place 24  coffee 22  friend 11  people 11  work 10  latte 10  study 8  service 7         ',\n",
       " '  bagel 46  sandwich 18  bageler 14  place 12  cream 11    coffee 10  back 8  work 6  latte 5  frien',\n",
       " '    place 20  tea 14  coffee 13  breakfast 13  food 10  service 7  staff 6  look (as in aesthetic) 6',\n",
       " '  cafe 18  coffee 17  place 15  food 14  sweet 9  quick 7  park 7           medici  1327-1331, e 57t',\n",
       " '    pizza 18  food 16  medici 13  pastry 12  friend 10     dollop  5500 s university ave, chicago, i',\n",
       " '    coffee 26  place 17  work 11  shop 10  location 8  campus 6  latte 6   washington park  currency',\n",
       " '  coffee 26  drink 19  place 17  dollop 14  milk 13    work 11  shop 10  location 8  student 6  camp',\n",
       " '  coffee 22  robust 13  place 12  food 11      sandwich 9  friend 7  space 7  area 7  work 7        ',\n",
       " '    coffee 19  staff 12  place 12  food 11  friend 10  sandwich 8  work 6  cafe 6  latte 5  neighbor']"
      ]
     },
     "execution_count": 7,
     "metadata": {},
     "output_type": "execute_result"
    }
   ],
   "source": [
    "first100_letters"
   ]
  },
  {
   "cell_type": "code",
   "execution_count": null,
   "metadata": {
    "collapsed": true
   },
   "outputs": [],
   "source": []
  }
 ],
 "metadata": {
  "kernelspec": {
   "display_name": "Python 3",
   "language": "python",
   "name": "python3"
  },
  "language_info": {
   "codemirror_mode": {
    "name": "ipython",
    "version": 3
   },
   "file_extension": ".py",
   "mimetype": "text/x-python",
   "name": "python",
   "nbconvert_exporter": "python",
   "pygments_lexer": "ipython3",
   "version": "3.6.3"
  }
 },
 "nbformat": 4,
 "nbformat_minor": 2
}
