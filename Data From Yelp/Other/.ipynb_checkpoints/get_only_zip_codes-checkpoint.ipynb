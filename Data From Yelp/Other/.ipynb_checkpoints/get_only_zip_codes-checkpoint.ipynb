{
 "cells": [
  {
   "cell_type": "code",
   "execution_count": 2,
   "metadata": {},
   "outputs": [],
   "source": [
    "import pandas as pd\n",
    "zip_code_data = pd.read_csv('zip_codes.csv')['zip']"
   ]
  },
  {
   "cell_type": "code",
   "execution_count": 4,
   "metadata": {},
   "outputs": [],
   "source": [
    "#zip_code_data.to_csv('only_zip_code_num.csv')"
   ]
  },
  {
   "cell_type": "code",
   "execution_count": 7,
   "metadata": {},
   "outputs": [],
   "source": [
    "urls = zip_code_data.apply (str)"
   ]
  },
  {
   "cell_type": "code",
   "execution_count": 8,
   "metadata": {},
   "outputs": [
    {
     "data": {
      "text/plain": [
       "0          501\n",
       "1          544\n",
       "2          601\n",
       "3          602\n",
       "4          603\n",
       "5          604\n",
       "6          605\n",
       "7          606\n",
       "8          610\n",
       "9          611\n",
       "10         612\n",
       "11         613\n",
       "12         614\n",
       "13         616\n",
       "14         617\n",
       "15         622\n",
       "16         623\n",
       "17         624\n",
       "18         627\n",
       "19         631\n",
       "20         636\n",
       "21         637\n",
       "22         638\n",
       "23         641\n",
       "24         646\n",
       "25         647\n",
       "26         650\n",
       "27         652\n",
       "28         653\n",
       "29         656\n",
       "         ...  \n",
       "42602    99811\n",
       "42603    99812\n",
       "42604    99820\n",
       "42605    99821\n",
       "42606    99824\n",
       "42607    99825\n",
       "42608    99826\n",
       "42609    99827\n",
       "42610    99829\n",
       "42611    99830\n",
       "42612    99832\n",
       "42613    99833\n",
       "42614    99835\n",
       "42615    99836\n",
       "42616    99840\n",
       "42617    99841\n",
       "42618    99850\n",
       "42619    99901\n",
       "42620    99903\n",
       "42621    99918\n",
       "42622    99919\n",
       "42623    99921\n",
       "42624    99922\n",
       "42625    99923\n",
       "42626    99925\n",
       "42627    99926\n",
       "42628    99927\n",
       "42629    99928\n",
       "42630    99929\n",
       "42631    99950\n",
       "Name: zip, Length: 42632, dtype: object"
      ]
     },
     "execution_count": 8,
     "metadata": {},
     "output_type": "execute_result"
    }
   ],
   "source": [
    "def create_link(x):\n",
    "    # deal with zip codes that have less than 5 digits. Example: 501 needs to be 00501\n",
    "    y = '0' * (5 - len(x)) + x\n",
    "    return (\"https://www.yelp.com/search?find_desc=cafe&find_loc=\" + x)\n",
    "urls"
   ]
  },
  {
   "cell_type": "code",
   "execution_count": null,
   "metadata": {
    "collapsed": true
   },
   "outputs": [],
   "source": []
  }
 ],
 "metadata": {
  "kernelspec": {
   "display_name": "Python 3",
   "language": "python",
   "name": "python3"
  },
  "language_info": {
   "codemirror_mode": {
    "name": "ipython",
    "version": 3
   },
   "file_extension": ".py",
   "mimetype": "text/x-python",
   "name": "python",
   "nbconvert_exporter": "python",
   "pygments_lexer": "ipython3",
   "version": "3.6.3"
  }
 },
 "nbformat": 4,
 "nbformat_minor": 2
}
