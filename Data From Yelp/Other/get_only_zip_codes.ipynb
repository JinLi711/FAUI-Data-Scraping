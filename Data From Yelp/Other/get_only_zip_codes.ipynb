{
 "cells": [
  {
   "cell_type": "code",
   "execution_count": 1,
   "metadata": {},
   "outputs": [],
   "source": [
    "import pandas as pd\n",
    "import numpy as np\n",
    "file = pd.read_csv('zip_codes.csv')\n",
    "zip_code_data = file['zip']"
   ]
  },
  {
   "cell_type": "code",
   "execution_count": 5,
   "metadata": {},
   "outputs": [
    {
     "data": {
      "text/plain": [
       "0    https://www.yelp.com/search?find_desc=cafe&fin...\n",
       "1    https://www.yelp.com/search?find_desc=cafe&fin...\n",
       "2    https://www.yelp.com/search?find_desc=cafe&fin...\n",
       "3    https://www.yelp.com/search?find_desc=cafe&fin...\n",
       "4    https://www.yelp.com/search?find_desc=cafe&fin...\n",
       "Name: zip, dtype: object"
      ]
     },
     "execution_count": 5,
     "metadata": {},
     "output_type": "execute_result"
    }
   ],
   "source": [
    "def create_link(num):\n",
    "    # deal with zip codes that have less than 5 digits. Example: 501 needs to be 00501\n",
    "    string = str(num)\n",
    "    zipcode = '0' * (5 - len(string)) + string\n",
    "    return (\"https://www.yelp.com/search?find_desc=cafe&find_loc=\" + zipcode)\n",
    "\n",
    "search_urls = zip_code_data.apply (create_link)\n",
    "search_urls.head()"
   ]
  },
  {
   "cell_type": "code",
   "execution_count": null,
   "metadata": {
    "collapsed": true
   },
   "outputs": [],
   "source": [
    "search_urls.to_csv(\"websites_to_scrape.csv\")"
   ]
  },
  {
   "cell_type": "code",
   "execution_count": 9,
   "metadata": {},
   "outputs": [],
   "source": [
    "index_Cook = file.loc[file['county'] == \"Cook County\"]\n",
    "Cook_County_Zip_Codes = index_Cook['zip'].apply (create_link)\n",
    "Cook_County_Zip_Codes.to_csv(\"Cook_County_Websites.csv\")"
   ]
  },
  {
   "cell_type": "code",
   "execution_count": null,
   "metadata": {},
   "outputs": [],
   "source": []
  },
  {
   "cell_type": "code",
   "execution_count": null,
   "metadata": {
    "collapsed": true
   },
   "outputs": [],
   "source": []
  }
 ],
 "metadata": {
  "kernelspec": {
   "display_name": "Python 3",
   "language": "python",
   "name": "python3"
  },
  "language_info": {
   "codemirror_mode": {
    "name": "ipython",
    "version": 3
   },
   "file_extension": ".py",
   "mimetype": "text/x-python",
   "name": "python",
   "nbconvert_exporter": "python",
   "pygments_lexer": "ipython3",
   "version": "3.6.3"
  }
 },
 "nbformat": 4,
 "nbformat_minor": 2
}
