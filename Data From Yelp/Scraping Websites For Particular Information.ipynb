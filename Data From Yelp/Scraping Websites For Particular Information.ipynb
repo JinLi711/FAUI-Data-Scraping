{
 "cells": [
  {
   "cell_type": "code",
   "execution_count": null,
   "metadata": {
    "collapsed": true
   },
   "outputs": [],
   "source": [
    "from urllib.request import urlopen\n",
    "import requests\n",
    "from bs4 import BeautifulSoup\n",
    "import numpy as np\n",
    "import pandas as pd\n",
    "import re\n",
    "import time\n",
    "import random\n",
    "\n",
    "session = requests.Session()\n",
    "headers = {'User-Agent':'Mozilla/5.0 (Macintosh; Intel Mac OS X 10_12_0) AppleWebKit/537.36 (KHTML, like Gecko) Chrome/69.0.3497.100 Safari/537.36',\n",
    "           'Accept':'text/html,application/xhtml+xml,application/xml;q=0.9,image/webp,image/apng,*/*;q=0.8'}"
   ]
  },
  {
   "cell_type": "code",
   "execution_count": null,
   "metadata": {},
   "outputs": [],
   "source": [
    "\"\"\"\n",
    "    Scraping an individual business:\n",
    "    Information that I want:\n",
    "        Address\n",
    "        Pricing\n",
    "        Health Score\n",
    "        Extra info on the right\n",
    "        Reviews\n",
    "\"\"\"\n",
    "def getBasicInfo(url):\n",
    "    \"\"\"\n",
    "        Given url of one business,\n",
    "        gather all basic info except the reviews.\n",
    "        Returns a dictionary.\n",
    "    \"\"\"\n",
    "    dict_of_info = {}\n",
    "    req = session.get(url, headers=headers)\n",
    "    bs = BeautifulSoup(req.text, 'lxml')\n",
    "    #html = urlopen(url)\n",
    "    #bs = BeautifulSoup(html.read(), 'lxml')\n",
    "    dict_of_info['Address'] = bs.find_all('address')[-1].text\n",
    "    price_and_health = bs.find_all('dd', {'class': 'nowrap'})\n",
    "    dict_of_info['Price Range'] = price_and_health[0].text\n",
    "    try:\n",
    "        dict_of_info['Health Score'] = price_and_health[1].text\n",
    "    except:\n",
    "        pass\n",
    "    more_biz_info = bs.find('div', {'class': \"short-def-list\"}).find_all('dl',)\n",
    "    for info in more_biz_info:\n",
    "        dict_of_info[info.find('dt').text] = info.find('dd').text\n",
    "    return dict_of_info\n",
    "\n",
    "start_time = time.time()\n",
    "greenline_coffee = \"\"\"https://www.yelp.com/biz/greenline-coffee-chicago\"\"\"\n",
    "greenline = getBasicInfo(greenline_coffee)\n",
    "print(\"--- %s seconds ---\" % (time.time() - start_time))"
   ]
  },
  {
   "cell_type": "code",
   "execution_count": null,
   "metadata": {
    "collapsed": true
   },
   "outputs": [],
   "source": [
    "def clear_white_space(i_dict):\n",
    "    for key in i_dict.keys():\n",
    "        i_dict[key.strip()] = i_dict.pop(key)\n",
    "    for key in i_dict.keys():\n",
    "        i_dict[key] = i_dict[key].strip()\n",
    "    return i_dict\n",
    "\n",
    "greenline = clear_white_space(clear_white_space (greenline)) # clear it twice\n",
    "greenline"
   ]
  },
  {
   "cell_type": "code",
   "execution_count": null,
   "metadata": {
    "collapsed": true
   },
   "outputs": [],
   "source": [
    "\"\"\"\n",
    "    Now to get the reviews:\n",
    "    Want:\n",
    "        star number\n",
    "        date\n",
    "        content\n",
    "\"\"\"\n",
    "def get_reviews_in_single_page(bs):\n",
    "    \"\"\"\n",
    "        Given a parsed url,\n",
    "        get all review info in a single page.\n",
    "        Returns a df.\n",
    "    \"\"\"\n",
    "    review_dict = {}\n",
    "    # this gets the box of info of Yelp review\n",
    "    review_form = bs.find(\n",
    "        'ul', {'class': \"ylist ylist-bordered reviews\"}\n",
    "        ).find_all(\n",
    "        'div', {'class': \"review-wrapper\"})\n",
    "\n",
    "    rating_list = []\n",
    "    date_list = []\n",
    "    comment_list = []\n",
    "    for review in review_form[1:]:\n",
    "        # gets number of stars\n",
    "        rating_list.append(\n",
    "            review.find('div', {'class': re.compile('i-stars i-stars--regular-.*')}).img.attrs['alt'])\n",
    "        # gets dates\n",
    "        date_list.append(\n",
    "            review.find('span', {'class': \"rating-qualifier\"}).text)\n",
    "        # gets comments\n",
    "        comment_list.append(\n",
    "            review.find('p', {'lang': \"en\"}).text)\n",
    "    review_dict['Star Ratings'] = rating_list\n",
    "    review_dict['Date'] = date_list\n",
    "    review_dict['Comment'] = comment_list \n",
    "    #review_dict['Business Name'] = []\n",
    "    return pd.DataFrame(review_dict)"
   ]
  },
  {
   "cell_type": "code",
   "execution_count": null,
   "metadata": {
    "collapsed": true
   },
   "outputs": [],
   "source": [
    "def get_all_reviews(url, page_limit):\n",
    "    page_num = 0\n",
    "    review_df = pd.DataFrame()\n",
    "    review_url = url\n",
    "    while page_num <= page_limit:\n",
    "        try:\n",
    "            html = urlopen(review_url)\n",
    "            bs = BeautifulSoup(html.read(), 'lxml')\n",
    "            review_df = review_df.append(get_reviews_in_single_page(bs))\n",
    "            page_num += 1\n",
    "            review_url = url + '?start=' + str(page_num * 20)  # 20 reviews in each page\n",
    "        except:\n",
    "            pass\n",
    "    review_df = review_df.drop_duplicates(['Comment'])  # .reset_index().drop('index',axis=1)\n",
    "    name = pd.DataFrame({'Business Name': [url] * review_df.shape[0]})\n",
    "    return review_df.join(name).set_index('Business Name')\n",
    "\n",
    "start_time = time.time()\n",
    "greenline_coffee_reviews = get_all_reviews(greenline_coffee, 1)\n",
    "print(\"--- %s seconds ---\" % (time.time() - start_time))\n",
    "greenline_coffee_reviews"
   ]
  },
  {
   "cell_type": "code",
   "execution_count": null,
   "metadata": {
    "collapsed": true
   },
   "outputs": [],
   "source": [
    "#x = pd.DataFrame({'a':1,'b':2},index = range(1))\n",
    "#np.full(3, 0)\n",
    "#x.iloc[np.full(3, 0)]\n",
    "#greenline_coffee_reviews.join(df1).set_index('Business Name')#.head()\n",
    "#df1 = pd.DataFrame({'Business Name': ['x'] * greenline_coffee_reviews.shape[0] })\n",
    "#greenline_coffee_reviews.join(df1).set_index('Business Name')"
   ]
  },
  {
   "cell_type": "code",
   "execution_count": null,
   "metadata": {
    "collapsed": true
   },
   "outputs": [],
   "source": [
    "# Test code on a different business\n",
    "sanc_url = \"\"\"https://www.yelp.com/biz/sanctuary-cafe-chicago?osq=cafe\"\"\"\n",
    "sanctuary_cafe = getBasicInfo(sanc_url)\n",
    "sanctuary_cafe = clear_white_space(clear_white_space(sanctuary_cafe))\n",
    "sanctuary_cafe"
   ]
  },
  {
   "cell_type": "code",
   "execution_count": null,
   "metadata": {
    "collapsed": true
   },
   "outputs": [],
   "source": [
    "sanctuary_cafe_reviews = get_all_reviews(sanc_url, 2)\n",
    "sanctuary_cafe_reviews"
   ]
  },
  {
   "cell_type": "code",
   "execution_count": null,
   "metadata": {
    "collapsed": true
   },
   "outputs": [],
   "source": [
    "#greenline_coffee_reviews.to_csv('Greenline Coffee Reviews.csv')"
   ]
  },
  {
   "cell_type": "code",
   "execution_count": null,
   "metadata": {},
   "outputs": [],
   "source": [
    "websites = pd.read_csv('websites.csv')['Link']\n",
    "websites.head()"
   ]
  },
  {
   "cell_type": "code",
   "execution_count": null,
   "metadata": {
    "collapsed": true
   },
   "outputs": [],
   "source": []
  },
  {
   "cell_type": "code",
   "execution_count": null,
   "metadata": {
    "collapsed": true
   },
   "outputs": [],
   "source": [
    "# Need to test if this works\n",
    "def gather_reviews (websites, n):\n",
    "    dict_websites = {}\n",
    "    reviews = pd.DataFrame()\n",
    "    for website in websites:\n",
    "        dict_websites[website] = clear_white_space(clear_white_space (getBasicInfo(url)))\n",
    "        reviews = reviews.append (get_all_reviews (websites, n))\n",
    "    return (dict_websites, reviews)\n",
    "        "
   ]
  },
  {
   "cell_type": "code",
   "execution_count": null,
   "metadata": {
    "collapsed": true
   },
   "outputs": [],
   "source": []
  },
  {
   "cell_type": "code",
   "execution_count": null,
   "metadata": {
    "collapsed": true
   },
   "outputs": [],
   "source": []
  }
 ],
 "metadata": {
  "kernelspec": {
   "display_name": "Python 3",
   "language": "python",
   "name": "python3"
  },
  "language_info": {
   "codemirror_mode": {
    "name": "ipython",
    "version": 3
   },
   "file_extension": ".py",
   "mimetype": "text/x-python",
   "name": "python",
   "nbconvert_exporter": "python",
   "pygments_lexer": "ipython3",
   "version": "3.6.3"
  }
 },
 "nbformat": 4,
 "nbformat_minor": 2
}
