{
 "cells": [
  {
   "cell_type": "code",
   "execution_count": null,
   "metadata": {
    "collapsed": true
   },
   "outputs": [],
   "source": [
    "\"\"\"\n",
    "    This Python notebook uses Yelp's API to gather data for cafes by latitude and longitude.\n",
    "    This is used for scraping the Chicago Area.\n",
    "    Problems with this method:\n",
    "        Incredibly inefficient (requests are bringing in similar results)\n",
    "        Slow.\n",
    "        Unpredictable.\n",
    "\"\"\""
   ]
  },
  {
   "cell_type": "code",
   "execution_count": null,
   "metadata": {},
   "outputs": [],
   "source": [
    "from yelpapi import YelpAPI\n",
    "import json\n",
    "import pandas as pd\n",
    "from pandas.io.json import json_normalize\n",
    "import numpy\n",
    "\n",
    "api_key = 'Z41R0DQquIn-_Y88pmgfAoavZA_kOFv-96EtbOcnGGdPVwqik70FkOXfIy_CRlcikfZ7nuzDtbx18DYg_vKJVJs32T3x7Zgx2y1bSxNGumP2U2S6bYtPBAOig4G3W3Yx'\n",
    "yelp_api = YelpAPI(api_key)\n"
   ]
  },
  {
   "cell_type": "code",
   "execution_count": null,
   "metadata": {},
   "outputs": [],
   "source": [
    "# Ballparked coordinates of 4 vertices of Zip Code 60637.\n",
    "upper_left_coordinate = [41.800792, -87.628796]  # [latitude, longitude]\n",
    "upper_right_coordinate = [41.800792, -87.574454]\n",
    "bottom_left_coordinate = [41.764310, -87.628796]\n",
    "bottom_right_coordinate = [41.764310, -87.574454]\n",
    "VDistance = abs(upper_left_coordinate[0] - bottom_left_coordinate[0])\n",
    "HDistance = abs(upper_left_coordinate[1] - upper_right_coordinate[1])\n",
    "\n",
    "# GPS distance to meters\n",
    "# Converted using website below\n",
    "# http://boulter.com/gps/distance/?from=41.800792+-87.628796&to=41.800792+-87.574454&units=k\n",
    "HDistance_m = 4520  # Distance from upperleft to upperright in meters.\n",
    "number_of_circles = 9\n",
    "# Yelp only takes integer values for radius\n",
    "circle_radius = round(HDistance_m / number_of_circles)  \n",
    "circle_radius\n"
   ]
  },
  {
   "cell_type": "code",
   "execution_count": null,
   "metadata": {},
   "outputs": [],
   "source": [
    "# sample search\n",
    "search_result = yelp_api.search_query(\n",
    "    latitude=upper_right_coordinate[0],\n",
    "    longitude=upper_right_coordinate[1],\n",
    "    radius=circle_radius,\n",
    "    limit=50)\n",
    "df = pd.DataFrame.from_dict(search_result['businesses'], orient='columns')\n",
    "df.head()\n"
   ]
  },
  {
   "cell_type": "code",
   "execution_count": null,
   "metadata": {
    "collapsed": true
   },
   "outputs": [],
   "source": [
    "def MoveMap(upper_left_coordinate, upper_right_coordinate, bottom_left_coordinate,\n",
    "            number_of_circles, circle_radius,\n",
    "            category):\n",
    "    '''\n",
    "        Start at the upper left corner of the grid.\n",
    "        Get the information within a certain radius.\n",
    "        Move to the left.\n",
    "        Repeat until the upper right point is reached.\n",
    "        Move back to to the longitude of upper left point.\n",
    "        Move downwards.\n",
    "        Repeat.\n",
    "    '''\n",
    "    distance_between_circles_h = abs(\n",
    "        upper_right_coordinate[1] - upper_left_coordinate[1]) / number_of_circles\n",
    "    distance_between_circles_v = abs(\n",
    "        upper_left_coordinate[0] - bottom_left_coordinate[0]) / number_of_circles\n",
    "    latitude = upper_left_coordinate[0]\n",
    "    longitude = upper_left_coordinate[1]\n",
    "\n",
    "    df = pd.DataFrame()\n",
    "    for v_step in range(number_of_circles):\n",
    "        for h_step in range(number_of_circles):\n",
    "            search_result = yelp_api.search_query(\n",
    "                term=category,\n",
    "                latitude=latitude,\n",
    "                longitude=longitude,\n",
    "                radius=circle_radius,\n",
    "                limit=50)\n",
    "            normalize = pd.DataFrame.from_dict(\n",
    "                json_normalize(search_result['businesses']), orient='columns')\n",
    "            # df = df.append (pd.DataFrame.from_dict(dfadd, orient='columns'))\n",
    "            df = df.append(normalize)\n",
    "            longitude += distance_between_circles_h\n",
    "        longitude = upper_left_coordinate[1]\n",
    "        latitude -= distance_between_circles_v\n",
    "    return df.drop_duplicates(['id']).reset_index().drop('index',axis=1)\n"
   ]
  },
  {
   "cell_type": "code",
   "execution_count": null,
   "metadata": {
    "collapsed": true
   },
   "outputs": [],
   "source": [
    "data_in_60637 = MoveMap(upper_left_coordinate, upper_right_coordinate, bottom_left_coordinate,\n",
    "              number_of_circles=9, circle_radius=circle_radius,\n",
    "              category='')\n"
   ]
  },
  {
   "cell_type": "code",
   "execution_count": null,
   "metadata": {},
   "outputs": [],
   "source": [
    "data_in_60637.head()"
   ]
  },
  {
   "cell_type": "code",
   "execution_count": null,
   "metadata": {},
   "outputs": [],
   "source": [
    "def get_yelp_data_by_location(location, number_of_calls):\n",
    "    '''\n",
    "        Given a location (ex. ZipCode),\n",
    "        use Yelp API to retrieve data.\n",
    "        Repeat by number of calls.\n",
    "        Returns a dataframe.\n",
    "    '''\n",
    "    df = pd.DataFrame()\n",
    "    for call in range (number_of_calls):\n",
    "        search_result = yelp_api.search_query(\n",
    "                    location=location,\n",
    "                    limit=50)\n",
    "        normalize = pd.DataFrame.from_dict(\n",
    "                    json_normalize(search_result['businesses']), orient='columns')\n",
    "        df = df.append(normalize)\n",
    "    return df\n",
    "\n",
    "location_data = get_yelp_data_by_location (\n",
    "                    location='60637',\n",
    "                    number_of_calls=2)\n",
    "location_data.drop_duplicates(['id']).head()\n",
    "# Calling any amount of times in the same location produces same results"
   ]
  },
  {
   "cell_type": "code",
   "execution_count": null,
   "metadata": {
    "collapsed": true
   },
   "outputs": [],
   "source": [
    "data_in_60637.to_csv ('Businesses in 60637.csv')"
   ]
  },
  {
   "cell_type": "code",
   "execution_count": null,
   "metadata": {
    "collapsed": true
   },
   "outputs": [],
   "source": [
    "cafe_in_60637 = MoveMap(upper_left_coordinate, upper_right_coordinate, bottom_left_coordinate,\n",
    "              number_of_circles=9, circle_radius=circle_radius,\n",
    "              category='cafe')"
   ]
  },
  {
   "cell_type": "code",
   "execution_count": null,
   "metadata": {},
   "outputs": [],
   "source": [
    "cafe_in_60637.head()"
   ]
  },
  {
   "cell_type": "code",
   "execution_count": null,
   "metadata": {
    "collapsed": true
   },
   "outputs": [],
   "source": [
    "# All these numbers are overestimates.\n",
    "\n",
    "# Ballparked coordinates of 4 vertices of Chicago\n",
    "chi_u_l = [42.031355, -87.946627] # [latitude, longitude]\n",
    "chi_u_r = [42.031355, -87.512777]\n",
    "chi_b_l = [41.633678, -87.946627]\n",
    "chi_b_r = [41.633678, -87.512777]\n",
    "\"\"\"\n",
    "    About 36 km from u_l to u_r\n",
    "    About 45 km from u_l to b_l\n",
    "    Area is about: 1620 km^2 (1.62e+9 m^2)\n",
    "    Based on Yelp(https://www.yelp.com/search?find_desc=cafe&find_loc=Chicago%2C+IL&ns=1):\n",
    "    There are about 2500 cafes in the Chicago area\n",
    "    (possibly up to 7500 in the grid I chose because the area is less than 3 times bigger).\n",
    "    That means about 1 cafe every 216000 m^2 (result seems off),\n",
    "    or 50 cafes every 10800000 m^2.\n",
    "    Then the radius I should pick is 1900 meters.\n",
    "    45/1.9 = 24, so the number of circles should be 24\n",
    "\"\"\"\n",
    "cafe_in_chicago = MoveMap(chi_u_l, chi_u_r, chi_b_l,\n",
    "              number_of_circles=24, circle_radius=1900,\n",
    "              category='cafe')"
   ]
  },
  {
   "cell_type": "code",
   "execution_count": null,
   "metadata": {},
   "outputs": [],
   "source": [
    "cafe_in_chicago.to_csv ('cafe_in_chicago.csv')\n",
    "cafe_in_chicago.head()"
   ]
  },
  {
   "cell_type": "code",
   "execution_count": null,
   "metadata": {
    "collapsed": true
   },
   "outputs": [],
   "source": [
    "\"\"\"\n",
    "    Cutting down coordinates, \n",
    "    increasing number of circles,\n",
    "    and decreasing circle size\n",
    "\"\"\"\n",
    "chi_u_l = [42.030116, -87.946627] # [latitude, longitude]\n",
    "chi_u_r = [42.030116, -87.512777]\n",
    "chi_b_l = [41.633678, -87.946627]\n",
    "chi_b_r = [41.633678, -87.512777]\n",
    "\n",
    "cafe_in_chicago = MoveMap(chi_u_l, chi_u_r, chi_b_l,\n",
    "              number_of_circles=45, circle_radius=1000,\n",
    "              category='cafe')"
   ]
  },
  {
   "cell_type": "code",
   "execution_count": null,
   "metadata": {},
   "outputs": [],
   "source": [
    "cafe_in_chicago.to_csv ('cafe_in_chicago.csv')\n",
    "cafe_in_chicago.head()"
   ]
  },
  {
   "cell_type": "code",
   "execution_count": null,
   "metadata": {},
   "outputs": [],
   "source": [
    "cafe_in_chicago.shape[0] # 1595. The one before that had 1300 cafes."
   ]
  },
  {
   "cell_type": "code",
   "execution_count": null,
   "metadata": {
    "collapsed": true
   },
   "outputs": [],
   "source": []
  }
 ],
 "metadata": {
  "kernelspec": {
   "display_name": "Python 3",
   "language": "python",
   "name": "python3"
  },
  "language_info": {
   "codemirror_mode": {
    "name": "ipython",
    "version": 3
   },
   "file_extension": ".py",
   "mimetype": "text/x-python",
   "name": "python",
   "nbconvert_exporter": "python",
   "pygments_lexer": "ipython3",
   "version": "3.6.3"
  }
 },
 "nbformat": 4,
 "nbformat_minor": 2
}
