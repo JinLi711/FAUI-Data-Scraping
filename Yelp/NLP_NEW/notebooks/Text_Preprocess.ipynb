{
 "cells": [
  {
   "cell_type": "markdown",
   "metadata": {},
   "source": [
    "# Loading Items"
   ]
  },
  {
   "cell_type": "code",
   "execution_count": 1,
   "metadata": {
    "collapsed": true
   },
   "outputs": [],
   "source": [
    "import spacy\n",
    "import unidecode\n",
    "import re\n",
    "import pandas as pd\n",
    "from collections import Counter\n",
    "\n",
    "# from itertools import chain\n",
    "from collections import defaultdict"
   ]
  },
  {
   "cell_type": "code",
   "execution_count": 2,
   "metadata": {
    "collapsed": true
   },
   "outputs": [],
   "source": [
    "nlp = spacy.load('en_core_web_sm')"
   ]
  },
  {
   "cell_type": "code",
   "execution_count": 3,
   "metadata": {
    "collapsed": true
   },
   "outputs": [],
   "source": [
    "with open(\"../tests/sample_text/text1.txt\") as f:\n",
    "    sample_text = f.read()"
   ]
  },
  {
   "cell_type": "code",
   "execution_count": 4,
   "metadata": {},
   "outputs": [
    {
     "data": {
      "text/plain": [
       "'Oné of my favorite places to pick something up in Chicago. If you\\'re a coffee or tea drinker, you need to stop in take a look at Coffee & Tea Exchange. I\\'m so happy this place still remains the same. Barrels of coffee where you can see and smell varietals from all over the world -Peru, Brazil, US or the elusive Blue Mountain ($99/lb) can be found here. ~`#$%^&*()_+=\\\\{\\\\}\\\\[\\\\];:\"<>@-/,\\n\\nI used to buy green coffee beans to roast at home. It\\'s actually really fun to home roast with a pot and then shaking the skins outside with a colander for the freshest roasted bean you can get! farmer market\\n\\nJars of black, white,  bakery green and herbal tea line the back walls of the counter. The staff always encourages you to sniff as many as you like before you purchase. Most loose leaf teas are roughly $3/oz which gets you several servings, they also have the flowering teas that will be a premium price. The best part is you can find a wide range of flavors and  getting a small bag to try is such an affordable luxury. As I\\'m writing this review, I\\'m sipping on a Pear Ginger herbal tea. It\\'s absolutely wonderful.\\nbakery bakery bakery bakery '"
      ]
     },
     "execution_count": 4,
     "metadata": {},
     "output_type": "execute_result"
    }
   ],
   "source": [
    "sample_text"
   ]
  },
  {
   "cell_type": "code",
   "execution_count": 5,
   "metadata": {},
   "outputs": [
    {
     "data": {
      "text/plain": [
       "Oné of my favorite places to pick something up in Chicago. If you're a coffee or tea drinker, you need to stop in take a look at Coffee & Tea Exchange. I'm so happy this place still remains the same. Barrels of coffee where you can see and smell varietals from all over the world -Peru, Brazil, US or the elusive Blue Mountain ($99/lb) can be found here. ~`#$%^&*()_+=\\{\\}\\[\\];:\"<>@-/,\n",
       "\n",
       "I used to buy green coffee beans to roast at home. It's actually really fun to home roast with a pot and then shaking the skins outside with a colander for the freshest roasted bean you can get! farmer market\n",
       "\n",
       "Jars of black, white,  bakery green and herbal tea line the back walls of the counter. The staff always encourages you to sniff as many as you like before you purchase. Most loose leaf teas are roughly $3/oz which gets you several servings, they also have the flowering teas that will be a premium price. The best part is you can find a wide range of flavors and  getting a small bag to try is such an affordable luxury. As I'm writing this review, I'm sipping on a Pear Ginger herbal tea. It's absolutely wonderful.\n",
       "bakery bakery bakery bakery "
      ]
     },
     "execution_count": 5,
     "metadata": {},
     "output_type": "execute_result"
    }
   ],
   "source": [
    "sample_text_doc = nlp(sample_text)\n",
    "sample_text_doc"
   ]
  },
  {
   "cell_type": "code",
   "execution_count": 6,
   "metadata": {},
   "outputs": [
    {
     "data": {
      "text/plain": [
       "'One of my favorite places to pick something up in Chicago. If you\\'re a coffee or tea drinker, you need to stop in take a look at Coffee & Tea Exchange. I\\'m so happy this place still remains the same. Barrels of coffee where you can see and smell varietals from all over the world -Peru, Brazil, US or the elusive Blue Mountain ($99/lb) can be found here. ~`#$%^&*()_+=\\\\{\\\\}\\\\[\\\\];:\"<>@-/,\\n\\nI used to buy green coffee beans to roast at home. It\\'s actually really fun to home roast with a pot and then shaking the skins outside with a colander for the freshest roasted bean you can get! farmer market\\n\\nJars of black, white,  bakery green and herbal tea line the back walls of the counter. The staff always encourages you to sniff as many as you like before you purchase. Most loose leaf teas are roughly $3/oz which gets you several servings, they also have the flowering teas that will be a premium price. The best part is you can find a wide range of flavors and  getting a small bag to try is such an affordable luxury. As I\\'m writing this review, I\\'m sipping on a Pear Ginger herbal tea. It\\'s absolutely wonderful.\\nbakery bakery bakery bakery '"
      ]
     },
     "execution_count": 6,
     "metadata": {},
     "output_type": "execute_result"
    }
   ],
   "source": [
    "unidecode.unidecode(sample_text)"
   ]
  },
  {
   "cell_type": "code",
   "execution_count": 7,
   "metadata": {},
   "outputs": [],
   "source": [
    "def normalize_text(text):\n",
    "    \"\"\"\n",
    "        Normalize the text by:\n",
    "            lowercasing\n",
    "            removing diacritics\n",
    "            replacing certain characters\n",
    "            removing duplicate spaces and delimiters\n",
    "            lematizing words\n",
    "    \"\"\"\n",
    "        \n",
    "        # this is missing characters: ',.?!|/\n",
    "    rm_char = r'[~`#$%^&*()_+=\\[\\]{}\\\\;:<>@-]|\\d'\n",
    "    text = re.sub(rm_char, ' ', text) \n",
    "        \n",
    "        # removes duplicate spaces\n",
    "    text = ' '.join(text.split())\n",
    "        \n",
    "    text = text.lower()\n",
    "    text = unidecode.unidecode(text)\n",
    "        \n",
    "        # convert to spacy text\n",
    "    spacy_text = nlp(text)\n",
    "        # -PRON- refers to pronouns\n",
    "    norm_text = \" \".join ([token.lemma_ for token in spacy_text])\n",
    "    return norm_text\n",
    "        \n",
    "class KeyWords:\n",
    "    \"\"\"\n",
    "    Keywords to search in Yelp reviews\n",
    "    \"\"\"\n",
    "    \n",
    "    def __init__(self, word_list):\n",
    "        \"\"\"\n",
    "        :param word_list: list of the keywords to search\n",
    "        :type  word_list: list\n",
    "        \"\"\"\n",
    "        self.word_list = word_list\n",
    "        self.word_set = {}\n",
    "    \n",
    "    def normalize_words(self):\n",
    "        \"\"\"\n",
    "        normalize each word\n",
    "        \"\"\"\n",
    "        \n",
    "        word_list = list (set(self.word_list))\n",
    "        norm_word_set = set([normalize_text(word) for word in word_list])\n",
    "        self.word_set = norm_word_set\n",
    "        \n",
    "class Review:\n",
    "    \"\"\"\n",
    "    Class for storing information of a single review.\n",
    "    \n",
    "    \"\"\"\n",
    "    \n",
    "    def __init__(self, raw_text):\n",
    "        \"\"\"\n",
    "        :param raw_text: the unmodified review\n",
    "        :type  raw_text: str\n",
    "        :param normalized_text: text after normalization\n",
    "        :type  normalized_text: str\n",
    "        \"\"\"\n",
    "        \n",
    "        self.raw_text = raw_text\n",
    "        self.normalized_text = ''\n",
    "        self.all_word_freq = {}\n",
    "        self.key_word_freq = {}\n",
    "        #self.rating = rating\n",
    "        #self.time = time\n",
    "        \n",
    "    def count_word_freq(self, keywords):\n",
    "        \"\"\"\n",
    "        Count the frequency of each individual word, split by spaces.\n",
    "        Then count the frequency of each keyword.\n",
    "        \n",
    "        :param keywords:\n",
    "        :type  keywords: set\n",
    "        \"\"\"\n",
    "        \n",
    "        # key_word_freq is not a subset of all_word_freq\n",
    "        # this is because key_word_freq may include spaces in them\n",
    "        # all_word_frequency does not\n",
    "        self.all_word_freq = Counter(self.normalized_text.split())\n",
    "        \n",
    "        key_word_freq = {}\n",
    "        for keyword in keywords:\n",
    "            key_word_freq[keyword] = self.normalized_text.count(keyword)\n",
    "        self.key_word_freq = key_word_freq"
   ]
  },
  {
   "cell_type": "code",
   "execution_count": 8,
   "metadata": {},
   "outputs": [],
   "source": [
    "word_list = pd.read_csv('../word_lists/key_words.csv')\n",
    "keywords = KeyWords(list (word_list['WORDS']))\n",
    "keywords.normalize_words()\n",
    "# keywords.word_set"
   ]
  },
  {
   "cell_type": "code",
   "execution_count": 9,
   "metadata": {},
   "outputs": [
    {
     "data": {
      "text/plain": [
       "'one of -PRON- favorite place to pick something up in chicago . if -PRON- be a coffee or tea drinker , -PRON- need to stop in take a look at coffee tea exchange . -PRON- be so happy this place still remain the same . barrel of coffee where -PRON- can see and smell varietal from all over the world peru , brazil , -PRON- or the elusive blue mountain /lb can be find here . \" / , i use to buy green coffee bean to roast at home . -PRON- be actually really fun to home roast with a pot and then shake the skin outside with a colander for the fresh roasted bean -PRON- can get ! farmer market jar of black , white , bakery green and herbal tea line the back wall of the counter . the staff always encourage -PRON- to sniff as many as -PRON- like before -PRON- purchase . most loose leaf tea be roughly /oz which get -PRON- several serving , -PRON- also have the flower tea that will be a premium price . the good part be -PRON- can find a wide range of flavor and get a small bag to try be such an affordable luxury . as -PRON- be write this review , -PRON- be sip on a pear ginger herbal tea . -PRON- be absolutely wonderful . bakery bakery bakery bakery'"
      ]
     },
     "execution_count": 9,
     "metadata": {},
     "output_type": "execute_result"
    }
   ],
   "source": [
    "review1 = Review(sample_text)\n",
    "review1.normalized_text = normalize_text(review1.raw_text)\n",
    "review1.count_word_freq(keywords.word_set)\n",
    "# Counter(review1.normalized_text.split())\n",
    "review1.normalized_text"
   ]
  },
  {
   "cell_type": "code",
   "execution_count": 10,
   "metadata": {},
   "outputs": [
    {
     "data": {
      "text/plain": [
       "__main__.Review"
      ]
     },
     "execution_count": 10,
     "metadata": {},
     "output_type": "execute_result"
    }
   ],
   "source": [
    "type(review1)"
   ]
  },
  {
   "cell_type": "code",
   "execution_count": 11,
   "metadata": {},
   "outputs": [],
   "source": [
    "# review1.all_word_freq\n",
    "# for token in sample_text_doc:\n",
    "#     print(token.text)"
   ]
  },
  {
   "cell_type": "code",
   "execution_count": 12,
   "metadata": {},
   "outputs": [],
   "source": [
    "class Business:\n",
    "    \"\"\"\n",
    "    Class for containing the information of a single business\n",
    "    \n",
    "    \"\"\"\n",
    "    \n",
    "    def __init__(self, name):\n",
    "        \"\"\"\n",
    "        \n",
    "        :param review_info: \n",
    "        :type  review_info: Review\n",
    "        \"\"\"\n",
    "        \n",
    "        self.name = name\n",
    "        self.review_info = []\n",
    "        self.all_word_freq = {}\n",
    "        self.key_word_freq = {}\n",
    "#         self.num_reviews = num_reviews\n",
    "        # will be a dict\n",
    "#         self.hours_opened = hours_opened\n",
    "#         self.price_range = price_range\n",
    "#         self.address = address\n",
    "\n",
    "    def find_review_info(self, reviews, keywords=keywords):\n",
    "        \"\"\"\n",
    "        Find the review data information.\n",
    "        \n",
    "        :param reviews: a set of strings, \n",
    "                        each of which is a review\n",
    "        :type  reviews: set\n",
    "        \"\"\"\n",
    "\n",
    "        all_reviews = []\n",
    "        for review in reviews:\n",
    "            review_ins = Review(review)\n",
    "            review_ins.normalized_text = normalize_text(review_ins.raw_text)\n",
    "            review_ins.count_word_freq(keywords.word_set)\n",
    "            all_reviews.append(review_ins)\n",
    "#         self.review_info = set(all_reviews)\n",
    "        self.review_info = (all_reviews)\n",
    "    \n",
    "    def aggregate_word_freq(self):\n",
    "        \"\"\"\n",
    "        Combine all the word count for each review\n",
    "        \"\"\"\n",
    "        \n",
    "        all_dict = defaultdict(list)\n",
    "        for review_info in self.review_info:\n",
    "            for key, value in review_info.all_word_freq.items():\n",
    "                all_dict[key].append(value)\n",
    "        \n",
    "        for k, v in all_dict.items():\n",
    "            all_dict[k] = sum(v)\n",
    "            \n",
    "        self.all_word_freq = all_dict\n",
    "        \n",
    "        \n",
    "        keyword_dict = defaultdict(list)\n",
    "        for review_info in self.review_info:\n",
    "            for key, value in review_info.key_word_freq.items():\n",
    "                keyword_dict[key].append(value)\n",
    "        \n",
    "        for k, v in keyword_dict.items():\n",
    "            keyword_dict[k] = sum(v)\n",
    "            \n",
    "        self.key_word_freq = keyword_dict"
   ]
  },
  {
   "cell_type": "code",
   "execution_count": 13,
   "metadata": {
    "collapsed": true
   },
   "outputs": [],
   "source": [
    "with open(\"../tests/sample_text/text1.txt\") as f:\n",
    "    sample_text1 = f.read()\n",
    "\n",
    "with open(\"../tests/sample_text/text2.txt\") as f:\n",
    "    sample_text2 = f.read()"
   ]
  },
  {
   "cell_type": "code",
   "execution_count": 14,
   "metadata": {},
   "outputs": [],
   "source": [
    "sample_reviews = set({sample_text1, sample_text2})"
   ]
  },
  {
   "cell_type": "code",
   "execution_count": 15,
   "metadata": {},
   "outputs": [],
   "source": [
    "# sample_reviews\n",
    "business1 = Business(\"Cafe1\")\n",
    "business1.find_review_info(sample_reviews)"
   ]
  },
  {
   "cell_type": "code",
   "execution_count": 16,
   "metadata": {},
   "outputs": [],
   "source": [
    "\n",
    "business1.aggregate_word_freq()\n",
    "# business1.review_info[1].raw_text"
   ]
  },
  {
   "cell_type": "code",
   "execution_count": 17,
   "metadata": {},
   "outputs": [],
   "source": [
    "# business1.review_info[0].all_word_freq"
   ]
  },
  {
   "cell_type": "code",
   "execution_count": 18,
   "metadata": {},
   "outputs": [],
   "source": [
    "# business1.all_word_freq#['!']"
   ]
  },
  {
   "cell_type": "code",
   "execution_count": null,
   "metadata": {},
   "outputs": [],
   "source": []
  },
  {
   "cell_type": "code",
   "execution_count": null,
   "metadata": {
    "collapsed": true
   },
   "outputs": [],
   "source": []
  }
 ],
 "metadata": {
  "kernelspec": {
   "display_name": "Python 3",
   "language": "python",
   "name": "python3"
  },
  "language_info": {
   "codemirror_mode": {
    "name": "ipython",
    "version": 3
   },
   "file_extension": ".py",
   "mimetype": "text/x-python",
   "name": "python",
   "nbconvert_exporter": "python",
   "pygments_lexer": "ipython3",
   "version": "3.6.3"
  },
  "toc": {
   "base_numbering": 1,
   "nav_menu": {},
   "number_sections": true,
   "sideBar": true,
   "skip_h1_title": false,
   "title_cell": "Table of Contents",
   "title_sidebar": "Contents",
   "toc_cell": false,
   "toc_position": {},
   "toc_section_display": true,
   "toc_window_display": false
  }
 },
 "nbformat": 4,
 "nbformat_minor": 2
}
