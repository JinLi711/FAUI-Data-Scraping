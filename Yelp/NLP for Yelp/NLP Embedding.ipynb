{
 "cells": [
  {
   "cell_type": "code",
   "execution_count": 1,
   "metadata": {
    "collapsed": true
   },
   "outputs": [],
   "source": [
    "import pandas as pd\n",
    "import numpy as np\n",
    "import matplotlib.pyplot as plt\n",
    "\n",
    "import re\n",
    "\n",
    "import nltk\n",
    "from gensim.models import Word2Vec\n",
    "\n",
    "from sklearn.decomposition import PCA"
   ]
  },
  {
   "cell_type": "code",
   "execution_count": 2,
   "metadata": {},
   "outputs": [
    {
     "data": {
      "text/html": [
       "<div>\n",
       "<style>\n",
       "    .dataframe thead tr:only-child th {\n",
       "        text-align: right;\n",
       "    }\n",
       "\n",
       "    .dataframe thead th {\n",
       "        text-align: left;\n",
       "    }\n",
       "\n",
       "    .dataframe tbody tr th {\n",
       "        vertical-align: top;\n",
       "    }\n",
       "</style>\n",
       "<table border=\"1\" class=\"dataframe\">\n",
       "  <thead>\n",
       "    <tr style=\"text-align: right;\">\n",
       "      <th></th>\n",
       "      <th>Unnamed: 0</th>\n",
       "      <th>BOHEMIAN_gallery</th>\n",
       "      <th>BOHEMIAN_Gaslight</th>\n",
       "      <th>BOHEMIAN_Intelligentsia</th>\n",
       "      <th>BOHEMIAN_Ipsento</th>\n",
       "      <th>BOHEMIAN_volume</th>\n",
       "      <th>BOHEMIAN_wormhole</th>\n",
       "      <th>CORPORATE_Bageler</th>\n",
       "      <th>CORPORATE_Bourgeoi</th>\n",
       "      <th>CORPORATE_Cupitol</th>\n",
       "      <th>CORPORATE_Dollop_Loop</th>\n",
       "      <th>CORPORATE_dollop_street</th>\n",
       "      <th>CORPORATE_Intelligentsia_Loop</th>\n",
       "      <th>NEIGHBORLY_Currency</th>\n",
       "      <th>NEIGHBORLY_Dollop_Hyde</th>\n",
       "      <th>NEIGHBORLY_Kusanya</th>\n",
       "      <th>NEIGHBORLY_medici</th>\n",
       "      <th>NEIGHBORLY_Plein</th>\n",
       "      <th>NEIGHBORLY_Robust</th>\n",
       "    </tr>\n",
       "  </thead>\n",
       "  <tbody>\n",
       "    <tr>\n",
       "      <th>0</th>\n",
       "      <td>0</td>\n",
       "      <td>Cozy neighborhood spot for a good coffee and y...</td>\n",
       "      <td>So I live relatively close now, and an update ...</td>\n",
       "      <td>There's a reason why Intelligentsia is at the ...</td>\n",
       "      <td>Went here on a hot day after walking the 606. ...</td>\n",
       "      <td>It's about time I write a review for this plac...</td>\n",
       "      <td>A unique experience. Upon walking inside Wormh...</td>\n",
       "      <td>Where do I begin? I need 10 stars for this pla...</td>\n",
       "      <td>Absolutely LOVE this place. Today was my first...</td>\n",
       "      <td>This is probably my favorite coffee and eatery...</td>\n",
       "      <td>This location is very busy and there is a wait...</td>\n",
       "      <td>Happy to have found a place that locals freque...</td>\n",
       "      <td>I'm a big fan of Intelligentsia and this is on...</td>\n",
       "      <td>This restaurant has reopened as Peach's at Cur...</td>\n",
       "      <td>The coffee here is SO good. I recommend the ic...</td>\n",
       "      <td>This place deserves all the hype it gets. i've...</td>\n",
       "      <td>My friend and I came here for lunch on a Frida...</td>\n",
       "      <td>This is probably one of my favorite places to ...</td>\n",
       "      <td>First and foremost, this place is huge! That a...</td>\n",
       "    </tr>\n",
       "    <tr>\n",
       "      <th>1</th>\n",
       "      <td>1</td>\n",
       "      <td>I thought this cafe was okay. I got the matcha...</td>\n",
       "      <td>Roasted: came here because I couldn't drink th...</td>\n",
       "      <td>Always a pleasure coming to this intelli locat...</td>\n",
       "      <td>Espresso served too hot, bean quality not impr...</td>\n",
       "      <td>Regardless of the SJW crap all over their wind...</td>\n",
       "      <td>If you like craft coffee mixed with 80's nosta...</td>\n",
       "      <td>4.5 stars. GREAT bagels and cream cheese here....</td>\n",
       "      <td>I went there today for the first time and orde...</td>\n",
       "      <td>I had breakfast here this past week. I really ...</td>\n",
       "      <td>This place has a lot of mosquitos inside, stra...</td>\n",
       "      <td>What a delightful little coffee shop. The name...</td>\n",
       "      <td>Anytime I come to Chicago, usually a stop to a...</td>\n",
       "      <td>Only a one star because it was closed. I've he...</td>\n",
       "      <td>I've been here three times now and I'm always ...</td>\n",
       "      <td>Really dug the decor and the coffee was excell...</td>\n",
       "      <td>I think the cheese burgers are 10 out of 10! M...</td>\n",
       "      <td>The mascarpone stuffed French toast was amazin...</td>\n",
       "      <td>I love this coffee shop because it's a nice pl...</td>\n",
       "    </tr>\n",
       "    <tr>\n",
       "      <th>2</th>\n",
       "      <td>2</td>\n",
       "      <td>Cute cafe that made a nice strong cortado. Fri...</td>\n",
       "      <td>Gaslight - the coffee shop designed for the ev...</td>\n",
       "      <td>While this is a short walk from me and a cute ...</td>\n",
       "      <td>Jacking'em up to a four star because at the en...</td>\n",
       "      <td>I first heard about Volumes from a friend, the...</td>\n",
       "      <td>I love this place!! My only complaint is that ...</td>\n",
       "      <td>If you are staying in Lincoln Park and you nee...</td>\n",
       "      <td>Bourgeois just means too rich for their britch...</td>\n",
       "      <td>This cafe is very cute and crowded. It's super...</td>\n",
       "      <td>Ok super annoyed with this place. Their coffee...</td>\n",
       "      <td>The honey cinnamon latte is my favorite drink ...</td>\n",
       "      <td>Excellent coffee, good atmosphere. Quality foo...</td>\n",
       "      <td>They literally converted a currency exchange i...</td>\n",
       "      <td>Drinks: 4Cleanliness: 4Outlets: 4Noise Level: ...</td>\n",
       "      <td>First I'd like to say thank you to Kusanya for...</td>\n",
       "      <td>The space is really nice. The girl at the fron...</td>\n",
       "      <td>*** Workspace ***Being a cafe in a university ...</td>\n",
       "      <td>Robust is such a great space to work or meet u...</td>\n",
       "    </tr>\n",
       "    <tr>\n",
       "      <th>3</th>\n",
       "      <td>3</td>\n",
       "      <td>Good neighborhood place for breakfast sandwich...</td>\n",
       "      <td>It's good coffee but it's a little bit overpri...</td>\n",
       "      <td>Good coffee, but slightly steep prices. This i...</td>\n",
       "      <td>Nice coffee shop in the area. About a 5 minute...</td>\n",
       "      <td>Super cute and modern neighborhood cafe &amp; book...</td>\n",
       "      <td>This coffee shop is the MF bomb and I love it!...</td>\n",
       "      <td>Ugh love this place! It feels so random on the...</td>\n",
       "      <td>Quality of the Pig has decreased. Atmosphere r...</td>\n",
       "      <td>I came in for breakfast with my friends on a S...</td>\n",
       "      <td>I had a very nice cortado here this morning, a...</td>\n",
       "      <td>I happened to pass Dollop on my way to Yolk th...</td>\n",
       "      <td>Was in Chicago for a conference and went to In...</td>\n",
       "      <td>My friend and I decided to give Currency Excha...</td>\n",
       "      <td>It's a Dollop so you essentially know what to ...</td>\n",
       "      <td>I loved walking into this coffee shop. It's in...</td>\n",
       "      <td>I can't believe I haven't written a review abo...</td>\n",
       "      <td>Food: 4Service: 4Cleanliness: 4Noise Level: Qu...</td>\n",
       "      <td>So happy this gem is in my neighborhood. I've ...</td>\n",
       "    </tr>\n",
       "    <tr>\n",
       "      <th>4</th>\n",
       "      <td>4</td>\n",
       "      <td>Big fan of this place! Love the kahlo breakfas...</td>\n",
       "      <td>Hands down one of my favorite coffee shops, ev...</td>\n",
       "      <td>Ah, 7 months after my Chicago trip and I'm fin...</td>\n",
       "      <td>Really great vibes here! It's a great space wi...</td>\n",
       "      <td>Volumes has easily become one of my favorite C...</td>\n",
       "      <td>Wormhole is definitely a trendy/hipster modern...</td>\n",
       "      <td>Delicious. Warm, freshly made bagels and drink...</td>\n",
       "      <td>So I came to this establishment a lot, like ev...</td>\n",
       "      <td>I came in around 8am on a Saturday to work. I'...</td>\n",
       "      <td>I work right in the building but I'm always he...</td>\n",
       "      <td>This Chicago only quasi-small chain has some a...</td>\n",
       "      <td>Great latte. They don't have the super comfort...</td>\n",
       "      <td>This past Sunday; I had a need for some good f...</td>\n",
       "      <td>Not the best Dollop location, but it'll do. I ...</td>\n",
       "      <td>I am pleased with my visit here, very kind sta...</td>\n",
       "      <td>Fell in love after we ordered some pizza from ...</td>\n",
       "      <td>Two cafes in one morning, my goodness! But aft...</td>\n",
       "      <td>Let's spend a second dreaming about that Honey...</td>\n",
       "    </tr>\n",
       "  </tbody>\n",
       "</table>\n",
       "</div>"
      ],
      "text/plain": [
       "   Unnamed: 0                                   BOHEMIAN_gallery  \\\n",
       "0           0  Cozy neighborhood spot for a good coffee and y...   \n",
       "1           1  I thought this cafe was okay. I got the matcha...   \n",
       "2           2  Cute cafe that made a nice strong cortado. Fri...   \n",
       "3           3  Good neighborhood place for breakfast sandwich...   \n",
       "4           4  Big fan of this place! Love the kahlo breakfas...   \n",
       "\n",
       "                                   BOHEMIAN_Gaslight  \\\n",
       "0  So I live relatively close now, and an update ...   \n",
       "1  Roasted: came here because I couldn't drink th...   \n",
       "2  Gaslight - the coffee shop designed for the ev...   \n",
       "3  It's good coffee but it's a little bit overpri...   \n",
       "4  Hands down one of my favorite coffee shops, ev...   \n",
       "\n",
       "                             BOHEMIAN_Intelligentsia  \\\n",
       "0  There's a reason why Intelligentsia is at the ...   \n",
       "1  Always a pleasure coming to this intelli locat...   \n",
       "2  While this is a short walk from me and a cute ...   \n",
       "3  Good coffee, but slightly steep prices. This i...   \n",
       "4  Ah, 7 months after my Chicago trip and I'm fin...   \n",
       "\n",
       "                                    BOHEMIAN_Ipsento  \\\n",
       "0  Went here on a hot day after walking the 606. ...   \n",
       "1  Espresso served too hot, bean quality not impr...   \n",
       "2  Jacking'em up to a four star because at the en...   \n",
       "3  Nice coffee shop in the area. About a 5 minute...   \n",
       "4  Really great vibes here! It's a great space wi...   \n",
       "\n",
       "                                     BOHEMIAN_volume  \\\n",
       "0  It's about time I write a review for this plac...   \n",
       "1  Regardless of the SJW crap all over their wind...   \n",
       "2  I first heard about Volumes from a friend, the...   \n",
       "3  Super cute and modern neighborhood cafe & book...   \n",
       "4  Volumes has easily become one of my favorite C...   \n",
       "\n",
       "                                   BOHEMIAN_wormhole  \\\n",
       "0  A unique experience. Upon walking inside Wormh...   \n",
       "1  If you like craft coffee mixed with 80's nosta...   \n",
       "2  I love this place!! My only complaint is that ...   \n",
       "3  This coffee shop is the MF bomb and I love it!...   \n",
       "4  Wormhole is definitely a trendy/hipster modern...   \n",
       "\n",
       "                                   CORPORATE_Bageler  \\\n",
       "0  Where do I begin? I need 10 stars for this pla...   \n",
       "1  4.5 stars. GREAT bagels and cream cheese here....   \n",
       "2  If you are staying in Lincoln Park and you nee...   \n",
       "3  Ugh love this place! It feels so random on the...   \n",
       "4  Delicious. Warm, freshly made bagels and drink...   \n",
       "\n",
       "                                  CORPORATE_Bourgeoi  \\\n",
       "0  Absolutely LOVE this place. Today was my first...   \n",
       "1  I went there today for the first time and orde...   \n",
       "2  Bourgeois just means too rich for their britch...   \n",
       "3  Quality of the Pig has decreased. Atmosphere r...   \n",
       "4  So I came to this establishment a lot, like ev...   \n",
       "\n",
       "                                   CORPORATE_Cupitol  \\\n",
       "0  This is probably my favorite coffee and eatery...   \n",
       "1  I had breakfast here this past week. I really ...   \n",
       "2  This cafe is very cute and crowded. It's super...   \n",
       "3  I came in for breakfast with my friends on a S...   \n",
       "4  I came in around 8am on a Saturday to work. I'...   \n",
       "\n",
       "                               CORPORATE_Dollop_Loop  \\\n",
       "0  This location is very busy and there is a wait...   \n",
       "1  This place has a lot of mosquitos inside, stra...   \n",
       "2  Ok super annoyed with this place. Their coffee...   \n",
       "3  I had a very nice cortado here this morning, a...   \n",
       "4  I work right in the building but I'm always he...   \n",
       "\n",
       "                             CORPORATE_dollop_street  \\\n",
       "0  Happy to have found a place that locals freque...   \n",
       "1  What a delightful little coffee shop. The name...   \n",
       "2  The honey cinnamon latte is my favorite drink ...   \n",
       "3  I happened to pass Dollop on my way to Yolk th...   \n",
       "4  This Chicago only quasi-small chain has some a...   \n",
       "\n",
       "                       CORPORATE_Intelligentsia_Loop  \\\n",
       "0  I'm a big fan of Intelligentsia and this is on...   \n",
       "1  Anytime I come to Chicago, usually a stop to a...   \n",
       "2  Excellent coffee, good atmosphere. Quality foo...   \n",
       "3  Was in Chicago for a conference and went to In...   \n",
       "4  Great latte. They don't have the super comfort...   \n",
       "\n",
       "                                 NEIGHBORLY_Currency  \\\n",
       "0  This restaurant has reopened as Peach's at Cur...   \n",
       "1  Only a one star because it was closed. I've he...   \n",
       "2  They literally converted a currency exchange i...   \n",
       "3  My friend and I decided to give Currency Excha...   \n",
       "4  This past Sunday; I had a need for some good f...   \n",
       "\n",
       "                              NEIGHBORLY_Dollop_Hyde  \\\n",
       "0  The coffee here is SO good. I recommend the ic...   \n",
       "1  I've been here three times now and I'm always ...   \n",
       "2  Drinks: 4Cleanliness: 4Outlets: 4Noise Level: ...   \n",
       "3  It's a Dollop so you essentially know what to ...   \n",
       "4  Not the best Dollop location, but it'll do. I ...   \n",
       "\n",
       "                                  NEIGHBORLY_Kusanya  \\\n",
       "0  This place deserves all the hype it gets. i've...   \n",
       "1  Really dug the decor and the coffee was excell...   \n",
       "2  First I'd like to say thank you to Kusanya for...   \n",
       "3  I loved walking into this coffee shop. It's in...   \n",
       "4  I am pleased with my visit here, very kind sta...   \n",
       "\n",
       "                                   NEIGHBORLY_medici  \\\n",
       "0  My friend and I came here for lunch on a Frida...   \n",
       "1  I think the cheese burgers are 10 out of 10! M...   \n",
       "2  The space is really nice. The girl at the fron...   \n",
       "3  I can't believe I haven't written a review abo...   \n",
       "4  Fell in love after we ordered some pizza from ...   \n",
       "\n",
       "                                    NEIGHBORLY_Plein  \\\n",
       "0  This is probably one of my favorite places to ...   \n",
       "1  The mascarpone stuffed French toast was amazin...   \n",
       "2  *** Workspace ***Being a cafe in a university ...   \n",
       "3  Food: 4Service: 4Cleanliness: 4Noise Level: Qu...   \n",
       "4  Two cafes in one morning, my goodness! But aft...   \n",
       "\n",
       "                                   NEIGHBORLY_Robust  \n",
       "0  First and foremost, this place is huge! That a...  \n",
       "1  I love this coffee shop because it's a nice pl...  \n",
       "2  Robust is such a great space to work or meet u...  \n",
       "3  So happy this gem is in my neighborhood. I've ...  \n",
       "4  Let's spend a second dreaming about that Honey...  "
      ]
     },
     "execution_count": 2,
     "metadata": {},
     "output_type": "execute_result"
    }
   ],
   "source": [
    "reviews = pd.read_csv('Processed_Data/all_reviews.csv')\n",
    "reviews.head()"
   ]
  },
  {
   "cell_type": "code",
   "execution_count": 66,
   "metadata": {},
   "outputs": [
    {
     "data": {
      "text/plain": [
       "\"cozy neighborhood spot for a good coffee and yummy sandwiches. we stopped in for a few hours to work and the wifi, the sound level and light was perfect for getting things done. if you're nice to the barista, they may make you a fun latte with funky art on it, and their latte flavors range from standard to different. the lavender one was lovely and the spicy one had just the right touch of heat. we got one of the sandwiches after a while and it came with veggie chips on a plate that looked like a painter's palette, which was fun. and the sandwich was fresh and tasty. so i live relatively close\""
      ]
     },
     "execution_count": 66,
     "metadata": {},
     "output_type": "execute_result"
    }
   ],
   "source": [
    "def clean_df_to_list (df):\n",
    "    \"\"\"\n",
    "    Cleans the data.\n",
    "    \n",
    "    :param df: Dataframe where each column is a business\n",
    "    :type  df: pandas.core.frame.DataFrame\n",
    "    :returns: \n",
    "    :rtype:   list\n",
    "    \"\"\"\n",
    "    \n",
    "    clean_df = df.drop(['Unnamed: 0'], axis=1).fillna('')\n",
    "    to_np = clean_df.values.flatten()\n",
    "    review_list = to_np.tolist()\n",
    "    words_in_one_string = \" \".join(review_list).lower()  \n",
    "    return words_in_one_string\n",
    "\n",
    "review_string = clean_df_to_list (reviews)\n",
    "review_string[:600]"
   ]
  },
  {
   "cell_type": "code",
   "execution_count": 67,
   "metadata": {
    "collapsed": true
   },
   "outputs": [],
   "source": [
    "#npreviews = reviews.values.flatten()#reshape(-1,1)\n",
    "#npreviews.shape"
   ]
  },
  {
   "cell_type": "code",
   "execution_count": 68,
   "metadata": {
    "collapsed": true
   },
   "outputs": [],
   "source": [
    "#npreviews = filter(lambda v: v==v, npreviews)\n",
    "#reviewlist = npreviews.tolist()"
   ]
  },
  {
   "cell_type": "code",
   "execution_count": 69,
   "metadata": {
    "collapsed": true
   },
   "outputs": [],
   "source": [
    "#reviewlist[:5]\n",
    "#words_in_one_string = \" \".join(reviewlist).lower()\n",
    "#words_in_one_string[:600]"
   ]
  },
  {
   "cell_type": "code",
   "execution_count": 70,
   "metadata": {},
   "outputs": [
    {
     "data": {
      "text/plain": [
       "\"cozy neighborhood spot for a good coffee and yummy sandwiches. we stopped in for a few hours to work and the wifi, the sound level and light was perfect for getting things done. if you're nice to the barista, they may make you a fun latte with funky art on it, and their latte flavors range from standard to different. the lavender one was lovely and the spicy one had just the right touch of heat. we got one of the sandwiches after a while and it came with veggie chips on a plate that looked like a painter's palette, which was fun. and the sandwich was fresh and tasty. so i live relatively close\""
      ]
     },
     "execution_count": 70,
     "metadata": {},
     "output_type": "execute_result"
    }
   ],
   "source": [
    "def clean_string (string):\n",
    "    lstring = string.lower()\n",
    "    remove_num = re.sub(r\"[0-9]+\", \" NUM \", lstring)\n",
    "    return remove_num\n",
    "\n",
    "reviews_cleaned = clean_string (review_string)\n",
    "reviews_cleaned[:600]"
   ]
  },
  {
   "cell_type": "code",
   "execution_count": 93,
   "metadata": {},
   "outputs": [
    {
     "name": "stdout",
     "output_type": "stream",
     "text": [
      "we stopped in for a few hours to work and the wifi, the sound level and light was perfect for getting things done \n"
     ]
    },
    {
     "data": {
      "text/plain": [
       "[['cozy',\n",
       "  'neighborhood',\n",
       "  'spot',\n",
       "  'for',\n",
       "  'a',\n",
       "  'good',\n",
       "  'coffee',\n",
       "  'and',\n",
       "  'yummy',\n",
       "  'sandwich']]"
      ]
     },
     "execution_count": 93,
     "metadata": {},
     "output_type": "execute_result"
    }
   ],
   "source": [
    "def to_list_of_sentences (string):\n",
    "    \"\"\"\n",
    "    Turn a string into a list of sentences, where each sentence is partitioned by words.\n",
    "    \n",
    "    :param string: string \n",
    "    :type  string: str\n",
    "    :returns: list of lists of words \n",
    "    :rtype:   list\n",
    "    \"\"\"\n",
    "    \n",
    "    wnl = nltk.WordNetLemmatizer()\n",
    "    sent_text = nltk.sent_tokenize(string)\n",
    "    #print (sent_text[1])\n",
    "    sent_text = [re.sub('[()!@%^&-+\\$.?*\"#\\xa0]', ' ', sentence) for sentence in sent_text]\n",
    "    print (sent_text[1])\n",
    "    sentences = []\n",
    "    for sentence in sent_text:\n",
    "        tokenized_text = nltk.word_tokenize(sentence)\n",
    "        lemmatized_text = [wnl.lemmatize(t) for t in tokenized_text]\n",
    "        sentences.append(lemmatized_text)\n",
    "        #tagged = nltk.pos_tag(tokenized_text)\n",
    "        #print(tagged)\n",
    "    return (sentences)\n",
    "\n",
    "sentences = to_list_of_sentences (reviews_cleaned)\n",
    "sentences[:1]"
   ]
  },
  {
   "cell_type": "code",
   "execution_count": 101,
   "metadata": {
    "collapsed": true
   },
   "outputs": [],
   "source": [
    "def create_word2vec_model (sentences):\n",
    "    \"\"\"\n",
    "    Create the word2vec model and the words used.\n",
    "    \n",
    "    :param sentences: list of lists of words \n",
    "    :type  sentences: list\n",
    "    :return: (model generated from gensim, list of words)\n",
    "    :rtype:  (gensim.models.word2vec.Word2Vec, list)\n",
    "    \"\"\"\n",
    "    model = Word2Vec(sentences, \n",
    "                 min_count=10, \n",
    "                 sg=0, # 0 for CBOW, 1 for skip gram\n",
    "                 size=100,\n",
    "                 window=5)\n",
    "    words = list(model.wv.vocab)\n",
    "    \n",
    "    print (model)\n",
    "    return (model, words)"
   ]
  },
  {
   "cell_type": "code",
   "execution_count": 102,
   "metadata": {},
   "outputs": [
    {
     "name": "stdout",
     "output_type": "stream",
     "text": [
      "Word2Vec(vocab=1884, size=100, alpha=0.025)\n"
     ]
    }
   ],
   "source": [
    "model, words = create_word2vec_model (sentences)"
   ]
  },
  {
   "cell_type": "code",
   "execution_count": 103,
   "metadata": {},
   "outputs": [
    {
     "data": {
      "text/plain": [
       "['cozy',\n",
       " 'neighborhood',\n",
       " 'spot',\n",
       " 'for',\n",
       " 'a',\n",
       " 'good',\n",
       " 'coffee',\n",
       " 'and',\n",
       " 'yummy',\n",
       " 'sandwich']"
      ]
     },
     "execution_count": 103,
     "metadata": {},
     "output_type": "execute_result"
    }
   ],
   "source": [
    "words[:10]"
   ]
  },
  {
   "cell_type": "code",
   "execution_count": 104,
   "metadata": {},
   "outputs": [
    {
     "name": "stderr",
     "output_type": "stream",
     "text": [
      "/Users/jinli/anaconda3/lib/python3.6/site-packages/ipykernel_launcher.py:12: DeprecationWarning: Call to deprecated `__getitem__` (Method will be removed in 4.0.0, use self.wv.__getitem__() instead).\n",
      "  if sys.path[0] == '':\n"
     ]
    },
    {
     "data": {
      "text/plain": [
       "(1884, 2)"
      ]
     },
     "execution_count": 104,
     "metadata": {},
     "output_type": "execute_result"
    }
   ],
   "source": [
    "def dim_reduction (model, dim=2):\n",
    "    \"\"\"\n",
    "    Reduce dimension of vectors for visualization\n",
    "    \n",
    "    :param model: model generated from gensim\n",
    "    :type  model: gensim.models.word2vec.Word2Vec\n",
    "    :param dim: Number of dimensions\n",
    "    :type  dim: int\n",
    "    :returns: An array of (instances, dim)\n",
    "    :rtype:   numpy.ndarray\n",
    "    \"\"\"\n",
    "    X = model[model.wv.vocab] #  retrieve all of the vectors from a trained model\n",
    "    \n",
    "    # TSNE\n",
    "    #from sklearn.manifold import TSNE\n",
    "    #tsne = TSNE(n_components=2, random_state=42)\n",
    "    #X_reduced_tsne = tsne.fit_transform(X)\n",
    "    \n",
    "    # For PCA reduction instead\n",
    "    pca = PCA(n_components=dim)\n",
    "    X_reduced_PCA = pca.fit_transform(X)\n",
    "    return X_reduced_PCA\n",
    "result = dim_reduction(model)\n",
    "result.shape"
   ]
  },
  {
   "cell_type": "code",
   "execution_count": 105,
   "metadata": {},
   "outputs": [
    {
     "data": {
      "text/plain": [
       "numpy.ndarray"
      ]
     },
     "execution_count": 105,
     "metadata": {},
     "output_type": "execute_result"
    }
   ],
   "source": [
    "type(result)"
   ]
  },
  {
   "cell_type": "code",
   "execution_count": 106,
   "metadata": {},
   "outputs": [
    {
     "data": {
      "text/plain": [
       "['neighborhood',\n",
       " 'coffee',\n",
       " 'wifi',\n",
       " ',',\n",
       " 'barista',\n",
       " 'latte',\n",
       " 'art',\n",
       " 'veggie',\n",
       " 'food',\n",
       " 'table',\n",
       " 'aren',\n",
       " 'espresso',\n",
       " 'intelligentsia',\n",
       " 'oat',\n",
       " 'baristas',\n",
       " 'seating',\n",
       " 'iced',\n",
       " 'nutella',\n",
       " 'tasted',\n",
       " 'donut',\n",
       " 'working',\n",
       " 'matcha',\n",
       " 'comfy',\n",
       " 'wormhole',\n",
       " 'music',\n",
       " 'bageler',\n",
       " 'isn',\n",
       " 'event',\n",
       " 'chai',\n",
       " 'gatsby',\n",
       " 'streeterville',\n",
       " 'hangout',\n",
       " 'friend',\n",
       " 'ipad',\n",
       " 'dollop',\n",
       " 'to-go',\n",
       " 'tucked',\n",
       " 'ambiance',\n",
       " 'disappoint',\n",
       " 'niece',\n",
       " 'grit',\n",
       " 'vibe',\n",
       " 'wasn',\n",
       " 'flavorful',\n",
       " 'couldn',\n",
       " 'bourbon',\n",
       " 'mocha',\n",
       " 'meeting',\n",
       " 'studying',\n",
       " 'medici',\n",
       " 'hearty',\n",
       " 'baguette',\n",
       " 'milkshake',\n",
       " 'blueberry',\n",
       " 'space',\n",
       " 'accommodating',\n",
       " 'didn',\n",
       " 'lighting',\n",
       " 'style',\n",
       " 'pour-over',\n",
       " 'koopa',\n",
       " 'troopa',\n",
       " 'brewed',\n",
       " 'delorean',\n",
       " 'bagel',\n",
       " 'doesn',\n",
       " 'burrito',\n",
       " 'avocado',\n",
       " ';',\n",
       " 'yelp',\n",
       " 'wouldn',\n",
       " 'hazelnut',\n",
       " 'kusanya',\n",
       " 'brioche',\n",
       " 'craving',\n",
       " 'uchicago',\n",
       " 'plein',\n",
       " 'beignet',\n",
       " 'cortado',\n",
       " 'gaslight',\n",
       " 'pricey',\n",
       " 'go-to',\n",
       " 'croissant',\n",
       " 'buttery',\n",
       " 'bagelers',\n",
       " 'coffeehouse',\n",
       " 'chipotle',\n",
       " 'crispy',\n",
       " 'bourgeois',\n",
       " 'quaint',\n",
       " 'hipster',\n",
       " 'scone',\n",
       " 'scrambled',\n",
       " 'pickle',\n",
       " 'stale',\n",
       " 'toasted',\n",
       " 'plentiful',\n",
       " 'café',\n",
       " 'clientele',\n",
       " 'community',\n",
       " 'oatmeal',\n",
       " 'seasoning',\n",
       " 'bun',\n",
       " 'bustling',\n",
       " 'muffin',\n",
       " 'picture',\n",
       " 'smoothie',\n",
       " 'overpriced',\n",
       " 'nicer',\n",
       " 'linger',\n",
       " '=',\n",
       " 'topping',\n",
       " 'shouldn',\n",
       " 'hang',\n",
       " 'drinker',\n",
       " 'acidity',\n",
       " 'collard',\n",
       " 'cappuccino',\n",
       " 'wi-fi',\n",
       " 'bakery',\n",
       " 'americano',\n",
       " 'weren',\n",
       " 'meh',\n",
       " 'cardamom',\n",
       " 'ipsento',\n",
       " 'snob',\n",
       " 'panini',\n",
       " 'woodlawn',\n",
       " 'throwback',\n",
       " 'ambience',\n",
       " 'watered',\n",
       " 'pretentious',\n",
       " 'ghostbusters',\n",
       " 'gremlin',\n",
       " 'quiche',\n",
       " 'cheddar',\n",
       " 'airy',\n",
       " 'true',\n",
       " 'mediocre',\n",
       " 'pleasantly',\n",
       " 'skim',\n",
       " 'salty',\n",
       " 'gravy',\n",
       " 'omelette',\n",
       " 'brownie',\n",
       " 'grabbing',\n",
       " 'robie',\n",
       " 'attentive',\n",
       " 'quirky',\n",
       " 'coffeeshop',\n",
       " 'overpowering',\n",
       " 'sweetness',\n",
       " 'pesto',\n",
       " 'serf',\n",
       " 'mousse',\n",
       " 'acidic',\n",
       " 'phenomenal',\n",
       " 'pancake',\n",
       " 'bus',\n",
       " 'watery',\n",
       " 'caramel',\n",
       " 'restroom',\n",
       " 'squeezed',\n",
       " 'flaky',\n",
       " 'lox',\n",
       " 'cupitol',\n",
       " 'chilling',\n",
       " 'downside',\n",
       " 'bottomless',\n",
       " 'omelet',\n",
       " 'doughnut',\n",
       " 'seasonal',\n",
       " 'dope',\n",
       " 'freaking',\n",
       " 'waitress',\n",
       " 'caffeinated',\n",
       " 'halfwit',\n",
       " 'roaster',\n",
       " 'nerdy',\n",
       " 'sipping',\n",
       " 'dunkin',\n",
       " 'catfish',\n",
       " 'cta',\n",
       " 'w/',\n",
       " 'tart',\n",
       " 'cayenne',\n",
       " 'sooo',\n",
       " 'hippy',\n",
       " 'lemonade',\n",
       " 'mellow',\n",
       " 'legit',\n",
       " 's/',\n",
       " '~',\n",
       " 'cramped',\n",
       " 'chive',\n",
       " 'stumbled',\n",
       " 'homey',\n",
       " 'concoction',\n",
       " 'savory',\n",
       " 'smoothy',\n",
       " 'salted',\n",
       " 'nostalgic',\n",
       " 'snobby',\n",
       " 'lunchboxes',\n",
       " 'decoration',\n",
       " 'delish',\n",
       " 'chemex',\n",
       " 'kitsch',\n",
       " 'waffle',\n",
       " 'hummus',\n",
       " 'cooky',\n",
       " 'kale',\n",
       " 'roasting',\n",
       " 'in-house',\n",
       " 'bucktown',\n",
       " 'macchiato',\n",
       " 'taxidermy',\n",
       " 'hadn',\n",
       " 'damen',\n",
       " 'decaf',\n",
       " 'gon',\n",
       " 'bongo',\n",
       " 'macaroon',\n",
       " 'gizmo',\n",
       " 'delorian',\n",
       " 'hobbes',\n",
       " 'kitschy',\n",
       " 'goony']"
      ]
     },
     "execution_count": 106,
     "metadata": {},
     "output_type": "execute_result"
    }
   ],
   "source": [
    "def filter_words (nparray, words,\n",
    "                  csv_common, csv_include, csv_google, \n",
    "                  max_google=20000):\n",
    "    \"\"\"\n",
    "    Remove words from a list and remove the corresponding np coordinate.\n",
    "    \n",
    "    :param nparray: An array of (instances, dim)\n",
    "    :type  nparray: numpy.ndarray\n",
    "    :param words: list of words\n",
    "    :type  words: list\n",
    "    :param csv_common: csv file of common words to exclude\n",
    "    :type  csv_common: str\n",
    "    :param csv_include: csv file of words to include\n",
    "    :type  csv_include: str\n",
    "    :param csv_google: csv file of words to exclude\n",
    "    :type  csv_google: str\n",
    "    :param max_google: Maximum number of words taken from google file\n",
    "    :type  max_google: int\n",
    "    :returns: (numpy array, filtered words)\n",
    "    :rtype:   (numpy.ndarray, list)\n",
    "    \"\"\"\n",
    "    \n",
    "    index_of_removed_words = []\n",
    "    remaining_words = []\n",
    "    \n",
    "    common_words = set (pd.read_csv (csv_common)['WORDS'].values)\n",
    "    key_words = set (pd.read_csv (csv_include)['WORDS'].values)\n",
    "    google_words = set (\n",
    "        pd.read_csv (csv_google)[:max_google]['WORDS'].values)\n",
    "    \n",
    "    #print (key_words)\n",
    "    for (i, word) in enumerate (words):\n",
    "        if not (word in google_words) and not (word in common_words) or \\\n",
    "            (word in key_words):\n",
    "            remaining_words.append(word)\n",
    "            index_of_removed_words.append(i)\n",
    "    \n",
    "    filtered_np_array = nparray[index_of_removed_words]\n",
    "    return (filtered_np_array, remaining_words)\n",
    "\n",
    "filtered_result, filtered_words = filter_words (\n",
    "    result, \n",
    "    words, \n",
    "    'Word_Lists/commonwords.csv',\n",
    "    'Word_Lists/keywords.csv',\n",
    "    'Word_Lists/20k.csv'\n",
    "    #'Word_Lists/google-10000-english-usa.csv'\n",
    "    )\n",
    "#[word for word in filtered_words if r'\\w' not in word]\n",
    "filtered_words"
   ]
  },
  {
   "cell_type": "code",
   "execution_count": 107,
   "metadata": {},
   "outputs": [
    {
     "data": {
      "text/plain": [
       "228"
      ]
     },
     "execution_count": 107,
     "metadata": {},
     "output_type": "execute_result"
    }
   ],
   "source": [
    "len (filtered_words)\n",
    "#common_words = set (\n",
    "#    pd.read_csv ('Word_Lists/google-10000-english-usa.csv')[:5000]['WORDS'].values)\n",
    "#['google-10']#.values.tolist()\n",
    "#common_words#.head()"
   ]
  },
  {
   "cell_type": "code",
   "execution_count": 108,
   "metadata": {},
   "outputs": [
    {
     "name": "stdout",
     "output_type": "stream",
     "text": [
      "228 228\n"
     ]
    }
   ],
   "source": [
    "print (len (filtered_result), len(filtered_words ))"
   ]
  },
  {
   "cell_type": "code",
   "execution_count": 110,
   "metadata": {},
   "outputs": [],
   "source": [
    "#filtered_words"
   ]
  },
  {
   "cell_type": "code",
   "execution_count": 111,
   "metadata": {},
   "outputs": [
    {
     "name": "stderr",
     "output_type": "stream",
     "text": [
      "/Users/jinli/anaconda3/lib/python3.6/site-packages/ipykernel_launcher.py:1: DeprecationWarning: Call to deprecated `similarity` (Method will be removed in 4.0.0, use self.wv.similarity() instead).\n",
      "  \"\"\"Entry point for launching an IPython kernel.\n",
      "/Users/jinli/anaconda3/lib/python3.6/site-packages/gensim/matutils.py:737: FutureWarning: Conversion of the second argument of issubdtype from `int` to `np.signedinteger` is deprecated. In future, it will be treated as `np.int64 == np.dtype(int).type`.\n",
      "  if np.issubdtype(vec.dtype, np.int):\n"
     ]
    },
    {
     "data": {
      "text/plain": [
       "0.3328476"
      ]
     },
     "execution_count": 111,
     "metadata": {},
     "output_type": "execute_result"
    }
   ],
   "source": [
    "model.similarity('coffee', 'latte')"
   ]
  },
  {
   "cell_type": "code",
   "execution_count": null,
   "metadata": {
    "collapsed": true
   },
   "outputs": [],
   "source": []
  },
  {
   "cell_type": "code",
   "execution_count": null,
   "metadata": {
    "collapsed": true
   },
   "outputs": [],
   "source": []
  },
  {
   "cell_type": "code",
   "execution_count": 112,
   "metadata": {},
   "outputs": [
    {
     "data": {
      "image/png": "[encoded data removed]",
      "text/plain": [
       "<matplotlib.figure.Figure at 0x1a1e2481d0>"
      ]
     },
     "metadata": {},
     "output_type": "display_data"
    }
   ],
   "source": [
    "def create_scatter (np_array, words):\n",
    "    \"\"\"\n",
    "    Create a scatter plot with words as labels.\n",
    "    \n",
    "    :param np_array: numpy array\n",
    "    :type  np_array: numpy.ndarray\n",
    "    :param words: list of words\n",
    "    :type  words: list\n",
    "    \"\"\"\n",
    "    \n",
    "    plt.scatter(np_array[:, 0], np_array[:, 1])\n",
    "    for i, word in enumerate(words):\n",
    "        plt.annotate(word, xy=(np_array[i, 0], np_array[i, 1]))\n",
    "    fig = plt.gcf()\n",
    "    fig.set_size_inches(20,10)\n",
    "    plt.savefig('Gensim_Models/Word_Embedding_Plot.jpg')\n",
    "    plt.show()\n",
    "    \n",
    "create_scatter(filtered_result, filtered_words)"
   ]
  },
  {
   "cell_type": "code",
   "execution_count": null,
   "metadata": {
    "collapsed": true
   },
   "outputs": [],
   "source": []
  },
  {
   "cell_type": "code",
   "execution_count": null,
   "metadata": {
    "collapsed": true
   },
   "outputs": [],
   "source": []
  },
  {
   "cell_type": "code",
   "execution_count": null,
   "metadata": {
    "collapsed": true
   },
   "outputs": [],
   "source": [
    "import re\n",
    "line = 'I paid 3.45 for this and $2 for that'\n",
    "line2 = re.sub(r\"[0-9|.]+\", \"[NUM]\", line)\n",
    "print (line,'\\n', line2)"
   ]
  },
  {
   "cell_type": "code",
   "execution_count": null,
   "metadata": {
    "collapsed": true
   },
   "outputs": [],
   "source": []
  },
  {
   "cell_type": "code",
   "execution_count": null,
   "metadata": {
    "collapsed": true
   },
   "outputs": [],
   "source": [
    "#model.save('model.bin')"
   ]
  },
  {
   "cell_type": "code",
   "execution_count": null,
   "metadata": {
    "collapsed": true
   },
   "outputs": [],
   "source": [
    "#new_model = Word2Vec.load('model.bin')"
   ]
  },
  {
   "cell_type": "code",
   "execution_count": null,
   "metadata": {
    "collapsed": true
   },
   "outputs": [],
   "source": [
    "#X = model[model.wv.vocab]"
   ]
  },
  {
   "cell_type": "code",
   "execution_count": null,
   "metadata": {
    "collapsed": true
   },
   "outputs": [],
   "source": []
  },
  {
   "cell_type": "code",
   "execution_count": null,
   "metadata": {
    "collapsed": true
   },
   "outputs": [],
   "source": []
  },
  {
   "cell_type": "code",
   "execution_count": null,
   "metadata": {
    "collapsed": true
   },
   "outputs": [],
   "source": []
  },
  {
   "cell_type": "code",
   "execution_count": null,
   "metadata": {
    "collapsed": true
   },
   "outputs": [],
   "source": []
  }
 ],
 "metadata": {
  "kernelspec": {
   "display_name": "Python 3",
   "language": "python",
   "name": "python3"
  },
  "language_info": {
   "codemirror_mode": {
    "name": "ipython",
    "version": 3
   },
   "file_extension": ".py",
   "mimetype": "text/x-python",
   "name": "python",
   "nbconvert_exporter": "python",
   "pygments_lexer": "ipython3",
   "version": "3.6.3"
  }
 },
 "nbformat": 4,
 "nbformat_minor": 2
}
