{
 "cells": [
  {
   "cell_type": "code",
   "execution_count": 2,
   "metadata": {
    "collapsed": true
   },
   "outputs": [],
   "source": [
    "import pandas as pd\n",
    "import numpy as np"
   ]
  },
  {
   "cell_type": "code",
   "execution_count": 3,
   "metadata": {
    "collapsed": true
   },
   "outputs": [],
   "source": [
    "websites = pd.read_csv('websites.csv')\n",
    "census_data = pd.read_csv(\"CafesandCoffeeshops_All_Chicago.csv\")"
   ]
  },
  {
   "cell_type": "code",
   "execution_count": 4,
   "metadata": {},
   "outputs": [
    {
     "data": {
      "text/html": [
       "<div>\n",
       "<style>\n",
       "    .dataframe thead tr:only-child th {\n",
       "        text-align: right;\n",
       "    }\n",
       "\n",
       "    .dataframe thead th {\n",
       "        text-align: left;\n",
       "    }\n",
       "\n",
       "    .dataframe tbody tr th {\n",
       "        vertical-align: top;\n",
       "    }\n",
       "</style>\n",
       "<table border=\"1\" class=\"dataframe\">\n",
       "  <thead>\n",
       "    <tr style=\"text-align: right;\">\n",
       "      <th></th>\n",
       "      <th>Link</th>\n",
       "    </tr>\n",
       "  </thead>\n",
       "  <tbody>\n",
       "    <tr>\n",
       "      <th>0</th>\n",
       "      <td>/biz/the-wormhole-coffee-chicago?osq=cafe</td>\n",
       "    </tr>\n",
       "    <tr>\n",
       "      <th>1</th>\n",
       "      <td>/biz/the-avondale-coffee-club-chicago?osq=cafe</td>\n",
       "    </tr>\n",
       "    <tr>\n",
       "      <th>2</th>\n",
       "      <td>/biz/limitless-coffee-fulton-market-chicago?os...</td>\n",
       "    </tr>\n",
       "    <tr>\n",
       "      <th>3</th>\n",
       "      <td>/biz/hero-coffee-bar-chicago-14?osq=cafe</td>\n",
       "    </tr>\n",
       "    <tr>\n",
       "      <th>4</th>\n",
       "      <td>/biz/purple-llama-chicago-3?osq=cafe</td>\n",
       "    </tr>\n",
       "  </tbody>\n",
       "</table>\n",
       "</div>"
      ],
      "text/plain": [
       "                                                Link\n",
       "0          /biz/the-wormhole-coffee-chicago?osq=cafe\n",
       "1     /biz/the-avondale-coffee-club-chicago?osq=cafe\n",
       "2  /biz/limitless-coffee-fulton-market-chicago?os...\n",
       "3           /biz/hero-coffee-bar-chicago-14?osq=cafe\n",
       "4               /biz/purple-llama-chicago-3?osq=cafe"
      ]
     },
     "execution_count": 4,
     "metadata": {},
     "output_type": "execute_result"
    }
   ],
   "source": [
    "only_links = websites.drop(['Num', 'Unnamed: 0'], axis=1)\n",
    "only_links.head()"
   ]
  },
  {
   "cell_type": "code",
   "execution_count": 5,
   "metadata": {},
   "outputs": [
    {
     "data": {
      "text/plain": [
       "True"
      ]
     },
     "execution_count": 5,
     "metadata": {},
     "output_type": "execute_result"
    }
   ],
   "source": [
    "only_links = only_links.iloc[:,0].str.replace('/biz/', '')\n",
    "only_links = only_links.str.replace('-', ' ')\n",
    "#z = y.str.replace('?osq=cafe', '')\n",
    "#y.sort_values()\n",
    "z = only_links.str.contains(\"ARGO TEA\", case=False).any()\n",
    "z"
   ]
  },
  {
   "cell_type": "code",
   "execution_count": 5,
   "metadata": {},
   "outputs": [
    {
     "data": {
      "text/plain": [
       "27                     1155 CAFE\n",
       "539            240 CAFE & LOUNGE\n",
       "386          90 MILES CUBAN CAFE\n",
       "444    90 MILES CUBAN CAFE, INC.\n",
       "367                ABSINTHE CAFE\n",
       "Name: doing_busi, dtype: object"
      ]
     },
     "execution_count": 5,
     "metadata": {},
     "output_type": "execute_result"
    }
   ],
   "source": [
    "census_data[\"doing_busi\"].sort_values().head()"
   ]
  },
  {
   "cell_type": "code",
   "execution_count": 6,
   "metadata": {},
   "outputs": [
    {
     "data": {
      "text/plain": [
       "[\"GEJA'S CAFE\",\n",
       " 'PINK KROKODILE CAFE',\n",
       " 'Starbucks Coffee #26720',\n",
       " 'STARBUCKS COFFEE #2929',\n",
       " 'ROYAL COFFEE',\n",
       " 'DARK MATTER COFFEE',\n",
       " 'Dollop Coffee and Tea',\n",
       " 'THE MEDICI',\n",
       " 'LEONIDAS CAFE CHOCOLATERIE',\n",
       " 'ARGO TEA UCH, LLC',\n",
       " \"ARTIST'S CAFE\",\n",
       " 'STARBUCKS COFFEE #22423',\n",
       " 'KINGSBURY STREET CAFE',\n",
       " 'CAFE DESCARTES COMPANY',\n",
       " 'EXPRESSION LAVAZZA',\n",
       " 'THE GODDESS AND GROCER',\n",
       " 'BERRISTA COFFEE',\n",
       " 'STARBUCKS COFFEE #10905',\n",
       " 'WEREWOLF COFFEE BAR',\n",
       " 'CORNER BAKERY CAFE',\n",
       " 'STARBUCKS COFFEE  #2635',\n",
       " 'Starbucks Coffee #23421',\n",
       " 'SHOKOLAD PASTRY & CAFE, INC',\n",
       " 'STARBUCKS COFFEE #2329',\n",
       " 'STARBUCKS COFFEE #10506',\n",
       " 'STARBUCKS COFFEE #206',\n",
       " 'CORNER BAKERY CAFE',\n",
       " 'THE GODDESS AND GROCER',\n",
       " 'STARBUCKS COFFEE #2375',\n",
       " 'STARBUCKS']"
      ]
     },
     "execution_count": 6,
     "metadata": {},
     "output_type": "execute_result"
    }
   ],
   "source": [
    "import random\n",
    "random_sample = []\n",
    "for i in range(30):\n",
    "    z = (random.randint(1,614))\n",
    "    random_sample.append (census_data[\"doing_busi\"][z])\n",
    "random_sample             "
   ]
  },
  {
   "cell_type": "code",
   "execution_count": 19,
   "metadata": {},
   "outputs": [
    {
     "name": "stdout",
     "output_type": "stream",
     "text": [
      "False\n",
      "Series([], Name: Link, dtype: object)\n"
     ]
    }
   ],
   "source": [
    "isthere = only_links.str.contains(\"SHOKOLAD\", case=False)\n",
    "print (isthere.any())\n",
    "print (only_links[isthere])"
   ]
  },
  {
   "cell_type": "code",
   "execution_count": null,
   "metadata": {
    "collapsed": true
   },
   "outputs": [],
   "source": [
    "# 1 if match, 0 if no match\n",
    "# PINK KROKODILE CAFE not in yelp\n",
    "# KINGSBURY STREET CAFE: closed\n",
    "# BERRISTA Coffee couldn't be found in Yelp\n",
    "list_of_matches = [0, 0, 1, 1, 1, 1, 1, 0, 1, 1, 1, 1, 0, 1, 1, 0, 0, 1, 1, 1, 1, 1, 1, 1, 1, 1, 1, 0, 1,1]"
   ]
  },
  {
   "cell_type": "code",
   "execution_count": null,
   "metadata": {},
   "outputs": [],
   "source": []
  },
  {
   "cell_type": "code",
   "execution_count": null,
   "metadata": {},
   "outputs": [],
   "source": []
  },
  {
   "cell_type": "code",
   "execution_count": null,
   "metadata": {
    "collapsed": true
   },
   "outputs": [],
   "source": []
  }
 ],
 "metadata": {
  "kernelspec": {
   "display_name": "Python 3",
   "language": "python",
   "name": "python3"
  },
  "language_info": {
   "codemirror_mode": {
    "name": "ipython",
    "version": 3
   },
   "file_extension": ".py",
   "mimetype": "text/x-python",
   "name": "python",
   "nbconvert_exporter": "python",
   "pygments_lexer": "ipython3",
   "version": "3.6.3"
  }
 },
 "nbformat": 4,
 "nbformat_minor": 2
}
