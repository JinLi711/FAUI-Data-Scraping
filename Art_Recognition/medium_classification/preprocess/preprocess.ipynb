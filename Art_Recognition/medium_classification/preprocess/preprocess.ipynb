{
 "cells": [
  {
   "cell_type": "markdown",
   "metadata": {},
   "source": [
    "# Loading Items"
   ]
  },
  {
   "cell_type": "code",
   "execution_count": 1,
   "metadata": {},
   "outputs": [
    {
     "name": "stdout",
     "output_type": "stream",
     "text": [
      "memory used before preprocess:  9.33704\n",
      "\n",
      "downcasting integers for: ['mid', 'project_id'] \n",
      "\n",
      "reduced memory usage for:   mid          from     3.11 to     1.56\n",
      "reduced memory usage for:   project_id   from     3.11 to     1.56\n",
      "\n",
      "available RAM: svmem(total=8589934592, available=2061066240, percent=76.0, used=6425350144, free=17256448, active=2052722688, inactive=2043809792, wired=2328817664)\n",
      "available RAM: svmem(total=8589934592, available=2061172736, percent=76.0, used=6425350144, free=17362944, active=2052722688, inactive=2043809792, wired=2328817664)\n",
      "\n",
      "memory used after preprocess:  6.22472\n",
      "converting emotion                        size:  26.63\t->\t 3.36\n",
      "converting medium                         size:  26.53\t->\t 3.36\n",
      "memory used before preprocess:  9.33704\n",
      "\n",
      "downcasting integers for: ['mid', 'project_id'] \n",
      "\n",
      "reduced memory usage for:   mid          from     3.11 to     1.56\n",
      "reduced memory usage for:   project_id   from     3.11 to     1.56\n",
      "\n",
      "available RAM: svmem(total=8589934592, available=2010791936, percent=76.6, used=6202646528, free=242831360, active=2159476736, inactive=1767960576, wired=2275209216)\n",
      "available RAM: svmem(total=8589934592, available=2010918912, percent=76.6, used=6202646528, free=242958336, active=2159476736, inactive=1767960576, wired=2275209216)\n",
      "\n",
      "memory used after preprocess:  6.22472\n",
      "converting attribute                      size:  30.9\t->\t 3.54\n",
      "converting label                          size:  28.52\t->\t 3.54\n",
      "memory used before preprocess:  9.33704\n",
      "\n",
      "downcasting integers for: ['mid', 'project_id'] \n",
      "\n",
      "reduced memory usage for:   mid          from     3.11 to     1.56\n",
      "reduced memory usage for:   project_id   from     3.11 to     1.56\n",
      "\n",
      "available RAM: svmem(total=8589934592, available=1813835776, percent=78.9, used=6305316864, free=60489728, active=2287087616, inactive=1753346048, wired=2264883200)\n",
      "available RAM: svmem(total=8589934592, available=1814073344, percent=78.9, used=6305337344, free=60727296, active=2287108096, inactive=1753346048, wired=2264883200)\n",
      "\n",
      "memory used after preprocess:  6.22472\n",
      "converting emotion                        size:  26.63\t->\t 3.36\n",
      "converting medium                         size:  26.53\t->\t 3.36\n",
      "memory used before preprocess:  9.33704\n",
      "\n",
      "downcasting integers for: ['mid', 'project_id'] \n",
      "\n",
      "reduced memory usage for:   mid          from     3.11 to     1.56\n",
      "reduced memory usage for:   project_id   from     3.11 to     1.56\n",
      "\n",
      "available RAM: svmem(total=8589934592, available=1887608832, percent=78.0, used=6020657152, free=290435072, active=2124267520, inactive=1597173760, wired=2299215872)\n",
      "available RAM: svmem(total=8589934592, available=1887719424, percent=78.0, used=6020665344, free=290545664, active=2124275712, inactive=1597173760, wired=2299215872)\n",
      "\n",
      "memory used after preprocess:  6.22472\n",
      "converting attribute                      size:  30.9\t->\t 3.54\n",
      "converting label                          size:  28.52\t->\t 3.54\n"
     ]
    },
    {
     "data": {
      "text/plain": [
       "<module 'preprocess' from '/Users/jinli/Projects/FAUI/Art_Recognition/medium_classification/preprocess/preprocess.py'>"
      ]
     },
     "execution_count": 1,
     "metadata": {},
     "output_type": "execute_result"
    }
   ],
   "source": [
    "import pandas as pd\n",
    "import sqlite3\n",
    "\n",
    "# import sys\n",
    "# sys.path.insert(0, '../preprocess')\n",
    "\n",
    "import importlib\n",
    "import reduce_memory as rm\n",
    "importlib.reload(rm)\n",
    "\n",
    "import preprocess\n",
    "importlib.reload(preprocess)"
   ]
  },
  {
   "cell_type": "code",
   "execution_count": 2,
   "metadata": {
    "collapsed": true
   },
   "outputs": [],
   "source": [
    "connection = sqlite3.connect(\"../data/bam-crowd-only.sqlite\")\n",
    "c = connection.cursor()"
   ]
  },
  {
   "cell_type": "markdown",
   "metadata": {},
   "source": [
    "## Loading URLS"
   ]
  },
  {
   "cell_type": "code",
   "execution_count": 3,
   "metadata": {
    "collapsed": true
   },
   "outputs": [],
   "source": [
    "modules = pd.read_sql(\n",
    "    \"select * from modules\",\n",
    "    connection\n",
    ")"
   ]
  },
  {
   "cell_type": "code",
   "execution_count": 4,
   "metadata": {},
   "outputs": [
    {
     "name": "stdout",
     "output_type": "stream",
     "text": [
      "<class 'pandas.core.frame.DataFrame'>\n",
      "RangeIndex: 389040 entries, 0 to 389039\n",
      "Data columns (total 5 columns):\n",
      "mid               389040 non-null int64\n",
      "project_id        389040 non-null int64\n",
      "src               389040 non-null object\n",
      "mature_content    389040 non-null int64\n",
      "license           389040 non-null object\n",
      "dtypes: int64(3), object(2)\n",
      "memory usage: 14.8+ MB\n"
     ]
    }
   ],
   "source": [
    "modules.info()"
   ]
  },
  {
   "cell_type": "code",
   "execution_count": 5,
   "metadata": {},
   "outputs": [
    {
     "data": {
      "text/html": [
       "<div>\n",
       "<style scoped>\n",
       "    .dataframe tbody tr th:only-of-type {\n",
       "        vertical-align: middle;\n",
       "    }\n",
       "\n",
       "    .dataframe tbody tr th {\n",
       "        vertical-align: top;\n",
       "    }\n",
       "\n",
       "    .dataframe thead th {\n",
       "        text-align: right;\n",
       "    }\n",
       "</style>\n",
       "<table border=\"1\" class=\"dataframe\">\n",
       "  <thead>\n",
       "    <tr style=\"text-align: right;\">\n",
       "      <th></th>\n",
       "      <th>mid</th>\n",
       "      <th>project_id</th>\n",
       "      <th>src</th>\n",
       "      <th>mature_content</th>\n",
       "      <th>license</th>\n",
       "    </tr>\n",
       "  </thead>\n",
       "  <tbody>\n",
       "    <tr>\n",
       "      <th>0</th>\n",
       "      <td>489</td>\n",
       "      <td>40030</td>\n",
       "      <td>https://mir-s3-cdn-cf.behance.net/project_modu...</td>\n",
       "      <td>0</td>\n",
       "      <td>cc by-nc</td>\n",
       "    </tr>\n",
       "    <tr>\n",
       "      <th>1</th>\n",
       "      <td>1004</td>\n",
       "      <td>40040</td>\n",
       "      <td>https://mir-s3-cdn-cf.behance.net/project_modu...</td>\n",
       "      <td>0</td>\n",
       "      <td>cc by-nc</td>\n",
       "    </tr>\n",
       "    <tr>\n",
       "      <th>2</th>\n",
       "      <td>1053</td>\n",
       "      <td>40041</td>\n",
       "      <td>https://mir-s3-cdn-cf.behance.net/project_modu...</td>\n",
       "      <td>0</td>\n",
       "      <td>cc by-nc</td>\n",
       "    </tr>\n",
       "    <tr>\n",
       "      <th>3</th>\n",
       "      <td>1065</td>\n",
       "      <td>40041</td>\n",
       "      <td>https://mir-s3-cdn-cf.behance.net/project_modu...</td>\n",
       "      <td>0</td>\n",
       "      <td>cc by-nc</td>\n",
       "    </tr>\n",
       "    <tr>\n",
       "      <th>4</th>\n",
       "      <td>1067</td>\n",
       "      <td>40043</td>\n",
       "      <td>https://mir-s3-cdn-cf.behance.net/project_modu...</td>\n",
       "      <td>0</td>\n",
       "      <td>cc by-nc</td>\n",
       "    </tr>\n",
       "  </tbody>\n",
       "</table>\n",
       "</div>"
      ],
      "text/plain": [
       "    mid  project_id                                                src  \\\n",
       "0   489       40030  https://mir-s3-cdn-cf.behance.net/project_modu...   \n",
       "1  1004       40040  https://mir-s3-cdn-cf.behance.net/project_modu...   \n",
       "2  1053       40041  https://mir-s3-cdn-cf.behance.net/project_modu...   \n",
       "3  1065       40041  https://mir-s3-cdn-cf.behance.net/project_modu...   \n",
       "4  1067       40043  https://mir-s3-cdn-cf.behance.net/project_modu...   \n",
       "\n",
       "   mature_content   license  \n",
       "0               0  cc by-nc  \n",
       "1               0  cc by-nc  \n",
       "2               0  cc by-nc  \n",
       "3               0  cc by-nc  \n",
       "4               0  cc by-nc  "
      ]
     },
     "execution_count": 5,
     "metadata": {},
     "output_type": "execute_result"
    }
   ],
   "source": [
    "modules.head()"
   ]
  },
  {
   "cell_type": "code",
   "execution_count": 6,
   "metadata": {
    "collapsed": true
   },
   "outputs": [],
   "source": [
    "modules.drop(['mature_content', 'license'], axis=1, inplace=True)"
   ]
  },
  {
   "cell_type": "code",
   "execution_count": 7,
   "metadata": {},
   "outputs": [
    {
     "data": {
      "text/html": [
       "<div>\n",
       "<style scoped>\n",
       "    .dataframe tbody tr th:only-of-type {\n",
       "        vertical-align: middle;\n",
       "    }\n",
       "\n",
       "    .dataframe tbody tr th {\n",
       "        vertical-align: top;\n",
       "    }\n",
       "\n",
       "    .dataframe thead th {\n",
       "        text-align: right;\n",
       "    }\n",
       "</style>\n",
       "<table border=\"1\" class=\"dataframe\">\n",
       "  <thead>\n",
       "    <tr style=\"text-align: right;\">\n",
       "      <th></th>\n",
       "      <th>mid</th>\n",
       "      <th>project_id</th>\n",
       "      <th>src</th>\n",
       "    </tr>\n",
       "  </thead>\n",
       "  <tbody>\n",
       "    <tr>\n",
       "      <th>0</th>\n",
       "      <td>489</td>\n",
       "      <td>40030</td>\n",
       "      <td>https://mir-s3-cdn-cf.behance.net/project_modu...</td>\n",
       "    </tr>\n",
       "    <tr>\n",
       "      <th>1</th>\n",
       "      <td>1004</td>\n",
       "      <td>40040</td>\n",
       "      <td>https://mir-s3-cdn-cf.behance.net/project_modu...</td>\n",
       "    </tr>\n",
       "    <tr>\n",
       "      <th>2</th>\n",
       "      <td>1053</td>\n",
       "      <td>40041</td>\n",
       "      <td>https://mir-s3-cdn-cf.behance.net/project_modu...</td>\n",
       "    </tr>\n",
       "    <tr>\n",
       "      <th>3</th>\n",
       "      <td>1065</td>\n",
       "      <td>40041</td>\n",
       "      <td>https://mir-s3-cdn-cf.behance.net/project_modu...</td>\n",
       "    </tr>\n",
       "    <tr>\n",
       "      <th>4</th>\n",
       "      <td>1067</td>\n",
       "      <td>40043</td>\n",
       "      <td>https://mir-s3-cdn-cf.behance.net/project_modu...</td>\n",
       "    </tr>\n",
       "  </tbody>\n",
       "</table>\n",
       "</div>"
      ],
      "text/plain": [
       "    mid  project_id                                                src\n",
       "0   489       40030  https://mir-s3-cdn-cf.behance.net/project_modu...\n",
       "1  1004       40040  https://mir-s3-cdn-cf.behance.net/project_modu...\n",
       "2  1053       40041  https://mir-s3-cdn-cf.behance.net/project_modu...\n",
       "3  1065       40041  https://mir-s3-cdn-cf.behance.net/project_modu...\n",
       "4  1067       40043  https://mir-s3-cdn-cf.behance.net/project_modu..."
      ]
     },
     "execution_count": 7,
     "metadata": {},
     "output_type": "execute_result"
    }
   ],
   "source": [
    "modules.head()"
   ]
  },
  {
   "cell_type": "code",
   "execution_count": 8,
   "metadata": {},
   "outputs": [
    {
     "name": "stdout",
     "output_type": "stream",
     "text": [
      "<class 'pandas.core.frame.DataFrame'>\n",
      "RangeIndex: 389040 entries, 0 to 389039\n",
      "Data columns (total 3 columns):\n",
      "mid           389040 non-null int64\n",
      "project_id    389040 non-null int64\n",
      "src           389040 non-null object\n",
      "dtypes: int64(2), object(1)\n",
      "memory usage: 8.9+ MB\n"
     ]
    }
   ],
   "source": [
    "modules.info()"
   ]
  },
  {
   "cell_type": "code",
   "execution_count": 9,
   "metadata": {},
   "outputs": [
    {
     "name": "stdout",
     "output_type": "stream",
     "text": [
      "memory used before preprocess:  9.33704\n",
      "\n",
      "downcasting integers for: ['mid', 'project_id'] \n",
      "\n",
      "reduced memory usage for:   mid          from     3.11 to     1.56\n",
      "reduced memory usage for:   project_id   from     3.11 to     1.56\n",
      "\n",
      "available RAM: svmem(total=8589934592, available=1749782528, percent=79.6, used=6105354240, free=205799424, active=2155167744, inactive=1543983104, wired=2406203392)\n",
      "available RAM: svmem(total=8589934592, available=1749782528, percent=79.6, used=6104686592, free=205799424, active=2154225664, inactive=1543983104, wired=2406477824)\n",
      "\n",
      "memory used after preprocess:  6.22472\n"
     ]
    }
   ],
   "source": [
    "modules_compressed = rm.compress_X(modules, {'src'})"
   ]
  },
  {
   "cell_type": "code",
   "execution_count": 10,
   "metadata": {},
   "outputs": [
    {
     "name": "stdout",
     "output_type": "stream",
     "text": [
      "<class 'pandas.core.frame.DataFrame'>\n",
      "RangeIndex: 389040 entries, 0 to 389039\n",
      "Data columns (total 3 columns):\n",
      "mid           389040 non-null int32\n",
      "project_id    389040 non-null int32\n",
      "src           389040 non-null object\n",
      "dtypes: int32(2), object(1)\n",
      "memory usage: 5.9+ MB\n"
     ]
    }
   ],
   "source": [
    "modules_compressed.info()"
   ]
  },
  {
   "cell_type": "code",
   "execution_count": 12,
   "metadata": {},
   "outputs": [
    {
     "data": {
      "text/html": [
       "<div>\n",
       "<style scoped>\n",
       "    .dataframe tbody tr th:only-of-type {\n",
       "        vertical-align: middle;\n",
       "    }\n",
       "\n",
       "    .dataframe tbody tr th {\n",
       "        vertical-align: top;\n",
       "    }\n",
       "\n",
       "    .dataframe thead th {\n",
       "        text-align: right;\n",
       "    }\n",
       "</style>\n",
       "<table border=\"1\" class=\"dataframe\">\n",
       "  <thead>\n",
       "    <tr style=\"text-align: right;\">\n",
       "      <th></th>\n",
       "      <th>mid</th>\n",
       "      <th>project_id</th>\n",
       "      <th>src</th>\n",
       "    </tr>\n",
       "  </thead>\n",
       "  <tbody>\n",
       "    <tr>\n",
       "      <th>0</th>\n",
       "      <td>489</td>\n",
       "      <td>40030</td>\n",
       "      <td>https://mir-s3-cdn-cf.behance.net/project_modu...</td>\n",
       "    </tr>\n",
       "    <tr>\n",
       "      <th>1</th>\n",
       "      <td>1004</td>\n",
       "      <td>40040</td>\n",
       "      <td>https://mir-s3-cdn-cf.behance.net/project_modu...</td>\n",
       "    </tr>\n",
       "    <tr>\n",
       "      <th>2</th>\n",
       "      <td>1053</td>\n",
       "      <td>40041</td>\n",
       "      <td>https://mir-s3-cdn-cf.behance.net/project_modu...</td>\n",
       "    </tr>\n",
       "    <tr>\n",
       "      <th>3</th>\n",
       "      <td>1065</td>\n",
       "      <td>40041</td>\n",
       "      <td>https://mir-s3-cdn-cf.behance.net/project_modu...</td>\n",
       "    </tr>\n",
       "    <tr>\n",
       "      <th>4</th>\n",
       "      <td>1067</td>\n",
       "      <td>40043</td>\n",
       "      <td>https://mir-s3-cdn-cf.behance.net/project_modu...</td>\n",
       "    </tr>\n",
       "  </tbody>\n",
       "</table>\n",
       "</div>"
      ],
      "text/plain": [
       "    mid  project_id                                                src\n",
       "0   489       40030  https://mir-s3-cdn-cf.behance.net/project_modu...\n",
       "1  1004       40040  https://mir-s3-cdn-cf.behance.net/project_modu...\n",
       "2  1053       40041  https://mir-s3-cdn-cf.behance.net/project_modu...\n",
       "3  1065       40041  https://mir-s3-cdn-cf.behance.net/project_modu...\n",
       "4  1067       40043  https://mir-s3-cdn-cf.behance.net/project_modu..."
      ]
     },
     "execution_count": 12,
     "metadata": {},
     "output_type": "execute_result"
    }
   ],
   "source": [
    "modules_compressed.set_index('mid')\n",
    "modules_compressed.head()"
   ]
  },
  {
   "cell_type": "markdown",
   "metadata": {},
   "source": [
    "## Loading Scores"
   ]
  },
  {
   "cell_type": "code",
   "execution_count": 13,
   "metadata": {
    "collapsed": true
   },
   "outputs": [],
   "source": [
    "scores = pd.read_sql(\n",
    "    \"select * from scores\",\n",
    "    connection,\n",
    "    index_col=\"mid\"\n",
    ")"
   ]
  },
  {
   "cell_type": "code",
   "execution_count": 14,
   "metadata": {
    "collapsed": true
   },
   "outputs": [],
   "source": [
    "scores.sort_index(axis=1, inplace=True)"
   ]
  },
  {
   "cell_type": "code",
   "execution_count": 15,
   "metadata": {},
   "outputs": [
    {
     "name": "stdout",
     "output_type": "stream",
     "text": [
      "<class 'pandas.core.frame.DataFrame'>\n",
      "Int64Index: 372777 entries, 489 to 222446005\n",
      "Data columns (total 20 columns):\n",
      "content_bicycle      372777 non-null float64\n",
      "content_bird         372777 non-null float64\n",
      "content_building     372777 non-null float64\n",
      "content_cars         372777 non-null float64\n",
      "content_cat          372777 non-null float64\n",
      "content_dog          372777 non-null float64\n",
      "content_flower       372777 non-null float64\n",
      "content_people       372777 non-null float64\n",
      "content_tree         372777 non-null float64\n",
      "emotion_gloomy       372777 non-null float64\n",
      "emotion_happy        372777 non-null float64\n",
      "emotion_peaceful     372777 non-null float64\n",
      "emotion_scary        372777 non-null float64\n",
      "media_3d_graphics    372777 non-null float64\n",
      "media_comic          372777 non-null float64\n",
      "media_graphite       372777 non-null float64\n",
      "media_oilpaint       372777 non-null float64\n",
      "media_pen_ink        372777 non-null float64\n",
      "media_vectorart      372777 non-null float64\n",
      "media_watercolor     372777 non-null float64\n",
      "dtypes: float64(20)\n",
      "memory usage: 59.7 MB\n"
     ]
    }
   ],
   "source": [
    "scores.info()"
   ]
  },
  {
   "cell_type": "code",
   "execution_count": 16,
   "metadata": {},
   "outputs": [
    {
     "data": {
      "text/html": [
       "<div>\n",
       "<style scoped>\n",
       "    .dataframe tbody tr th:only-of-type {\n",
       "        vertical-align: middle;\n",
       "    }\n",
       "\n",
       "    .dataframe tbody tr th {\n",
       "        vertical-align: top;\n",
       "    }\n",
       "\n",
       "    .dataframe thead th {\n",
       "        text-align: right;\n",
       "    }\n",
       "</style>\n",
       "<table border=\"1\" class=\"dataframe\">\n",
       "  <thead>\n",
       "    <tr style=\"text-align: right;\">\n",
       "      <th></th>\n",
       "      <th>content_bicycle</th>\n",
       "      <th>content_bird</th>\n",
       "      <th>content_building</th>\n",
       "      <th>content_cars</th>\n",
       "      <th>content_cat</th>\n",
       "      <th>content_dog</th>\n",
       "      <th>content_flower</th>\n",
       "      <th>content_people</th>\n",
       "      <th>content_tree</th>\n",
       "      <th>emotion_gloomy</th>\n",
       "      <th>emotion_happy</th>\n",
       "      <th>emotion_peaceful</th>\n",
       "      <th>emotion_scary</th>\n",
       "      <th>media_3d_graphics</th>\n",
       "      <th>media_comic</th>\n",
       "      <th>media_graphite</th>\n",
       "      <th>media_oilpaint</th>\n",
       "      <th>media_pen_ink</th>\n",
       "      <th>media_vectorart</th>\n",
       "      <th>media_watercolor</th>\n",
       "    </tr>\n",
       "    <tr>\n",
       "      <th>mid</th>\n",
       "      <th></th>\n",
       "      <th></th>\n",
       "      <th></th>\n",
       "      <th></th>\n",
       "      <th></th>\n",
       "      <th></th>\n",
       "      <th></th>\n",
       "      <th></th>\n",
       "      <th></th>\n",
       "      <th></th>\n",
       "      <th></th>\n",
       "      <th></th>\n",
       "      <th></th>\n",
       "      <th></th>\n",
       "      <th></th>\n",
       "      <th></th>\n",
       "      <th></th>\n",
       "      <th></th>\n",
       "      <th></th>\n",
       "      <th></th>\n",
       "    </tr>\n",
       "  </thead>\n",
       "  <tbody>\n",
       "    <tr>\n",
       "      <th>489</th>\n",
       "      <td>-8.194265</td>\n",
       "      <td>-6.825498</td>\n",
       "      <td>-1.033735</td>\n",
       "      <td>-4.741513</td>\n",
       "      <td>-13.083484</td>\n",
       "      <td>-5.438437</td>\n",
       "      <td>-6.437519</td>\n",
       "      <td>-0.372203</td>\n",
       "      <td>-0.140162</td>\n",
       "      <td>-5.251916</td>\n",
       "      <td>-0.784109</td>\n",
       "      <td>-0.295248</td>\n",
       "      <td>-10.125443</td>\n",
       "      <td>-13.048631</td>\n",
       "      <td>-13.372336</td>\n",
       "      <td>-11.520514</td>\n",
       "      <td>-8.102950</td>\n",
       "      <td>-10.792016</td>\n",
       "      <td>-10.279009</td>\n",
       "      <td>-11.912029</td>\n",
       "    </tr>\n",
       "    <tr>\n",
       "      <th>1004</th>\n",
       "      <td>-5.908639</td>\n",
       "      <td>-7.481776</td>\n",
       "      <td>-2.769971</td>\n",
       "      <td>-8.715858</td>\n",
       "      <td>-9.379574</td>\n",
       "      <td>-5.466529</td>\n",
       "      <td>-1.974876</td>\n",
       "      <td>-0.110869</td>\n",
       "      <td>-4.740625</td>\n",
       "      <td>-1.939304</td>\n",
       "      <td>-5.214772</td>\n",
       "      <td>-3.770542</td>\n",
       "      <td>-4.781479</td>\n",
       "      <td>-10.137968</td>\n",
       "      <td>-9.871041</td>\n",
       "      <td>-8.218750</td>\n",
       "      <td>-9.769642</td>\n",
       "      <td>-9.929028</td>\n",
       "      <td>-9.538937</td>\n",
       "      <td>-17.242306</td>\n",
       "    </tr>\n",
       "    <tr>\n",
       "      <th>1053</th>\n",
       "      <td>-8.682774</td>\n",
       "      <td>-11.664145</td>\n",
       "      <td>-2.258289</td>\n",
       "      <td>-5.678706</td>\n",
       "      <td>-23.007246</td>\n",
       "      <td>-9.459610</td>\n",
       "      <td>-15.922831</td>\n",
       "      <td>-0.052687</td>\n",
       "      <td>-9.073513</td>\n",
       "      <td>-1.498988</td>\n",
       "      <td>-4.624222</td>\n",
       "      <td>-3.624131</td>\n",
       "      <td>-3.692783</td>\n",
       "      <td>-8.926823</td>\n",
       "      <td>-7.796127</td>\n",
       "      <td>-9.731888</td>\n",
       "      <td>-6.789311</td>\n",
       "      <td>-8.929226</td>\n",
       "      <td>-8.575558</td>\n",
       "      <td>-18.276842</td>\n",
       "    </tr>\n",
       "    <tr>\n",
       "      <th>1065</th>\n",
       "      <td>-7.429687</td>\n",
       "      <td>-5.884630</td>\n",
       "      <td>-0.526354</td>\n",
       "      <td>-3.525297</td>\n",
       "      <td>-9.030757</td>\n",
       "      <td>-6.339474</td>\n",
       "      <td>-9.055132</td>\n",
       "      <td>-1.939328</td>\n",
       "      <td>-3.102335</td>\n",
       "      <td>-0.523028</td>\n",
       "      <td>-5.766580</td>\n",
       "      <td>-3.715596</td>\n",
       "      <td>-3.109094</td>\n",
       "      <td>-6.108827</td>\n",
       "      <td>-9.137621</td>\n",
       "      <td>-7.905422</td>\n",
       "      <td>-7.122383</td>\n",
       "      <td>-8.709348</td>\n",
       "      <td>-8.250728</td>\n",
       "      <td>-16.156538</td>\n",
       "    </tr>\n",
       "    <tr>\n",
       "      <th>1067</th>\n",
       "      <td>-6.541219</td>\n",
       "      <td>-6.800467</td>\n",
       "      <td>-2.133614</td>\n",
       "      <td>-4.348733</td>\n",
       "      <td>-9.875690</td>\n",
       "      <td>-4.610362</td>\n",
       "      <td>-10.881371</td>\n",
       "      <td>-0.225947</td>\n",
       "      <td>-6.983145</td>\n",
       "      <td>-3.240254</td>\n",
       "      <td>-1.745344</td>\n",
       "      <td>-3.466125</td>\n",
       "      <td>-4.812078</td>\n",
       "      <td>-9.403267</td>\n",
       "      <td>-8.060266</td>\n",
       "      <td>-7.940952</td>\n",
       "      <td>-8.474461</td>\n",
       "      <td>-7.462641</td>\n",
       "      <td>-8.906570</td>\n",
       "      <td>-14.413774</td>\n",
       "    </tr>\n",
       "  </tbody>\n",
       "</table>\n",
       "</div>"
      ],
      "text/plain": [
       "      content_bicycle  content_bird  content_building  content_cars  \\\n",
       "mid                                                                   \n",
       "489         -8.194265     -6.825498         -1.033735     -4.741513   \n",
       "1004        -5.908639     -7.481776         -2.769971     -8.715858   \n",
       "1053        -8.682774    -11.664145         -2.258289     -5.678706   \n",
       "1065        -7.429687     -5.884630         -0.526354     -3.525297   \n",
       "1067        -6.541219     -6.800467         -2.133614     -4.348733   \n",
       "\n",
       "      content_cat  content_dog  content_flower  content_people  content_tree  \\\n",
       "mid                                                                            \n",
       "489    -13.083484    -5.438437       -6.437519       -0.372203     -0.140162   \n",
       "1004    -9.379574    -5.466529       -1.974876       -0.110869     -4.740625   \n",
       "1053   -23.007246    -9.459610      -15.922831       -0.052687     -9.073513   \n",
       "1065    -9.030757    -6.339474       -9.055132       -1.939328     -3.102335   \n",
       "1067    -9.875690    -4.610362      -10.881371       -0.225947     -6.983145   \n",
       "\n",
       "      emotion_gloomy  emotion_happy  emotion_peaceful  emotion_scary  \\\n",
       "mid                                                                    \n",
       "489        -5.251916      -0.784109         -0.295248     -10.125443   \n",
       "1004       -1.939304      -5.214772         -3.770542      -4.781479   \n",
       "1053       -1.498988      -4.624222         -3.624131      -3.692783   \n",
       "1065       -0.523028      -5.766580         -3.715596      -3.109094   \n",
       "1067       -3.240254      -1.745344         -3.466125      -4.812078   \n",
       "\n",
       "      media_3d_graphics  media_comic  media_graphite  media_oilpaint  \\\n",
       "mid                                                                    \n",
       "489          -13.048631   -13.372336      -11.520514       -8.102950   \n",
       "1004         -10.137968    -9.871041       -8.218750       -9.769642   \n",
       "1053          -8.926823    -7.796127       -9.731888       -6.789311   \n",
       "1065          -6.108827    -9.137621       -7.905422       -7.122383   \n",
       "1067          -9.403267    -8.060266       -7.940952       -8.474461   \n",
       "\n",
       "      media_pen_ink  media_vectorart  media_watercolor  \n",
       "mid                                                     \n",
       "489      -10.792016       -10.279009        -11.912029  \n",
       "1004      -9.929028        -9.538937        -17.242306  \n",
       "1053      -8.929226        -8.575558        -18.276842  \n",
       "1065      -8.709348        -8.250728        -16.156538  \n",
       "1067      -7.462641        -8.906570        -14.413774  "
      ]
     },
     "execution_count": 16,
     "metadata": {},
     "output_type": "execute_result"
    }
   ],
   "source": [
    "scores.head()"
   ]
  },
  {
   "cell_type": "code",
   "execution_count": 18,
   "metadata": {},
   "outputs": [],
   "source": [
    "# scores.columns\n",
    "# 'content_bicycle'.split('_')\n",
    "# type (scores)"
   ]
  },
  {
   "cell_type": "code",
   "execution_count": 19,
   "metadata": {},
   "outputs": [
    {
     "data": {
      "text/html": [
       "<div>\n",
       "<style scoped>\n",
       "    .dataframe tbody tr th:only-of-type {\n",
       "        vertical-align: middle;\n",
       "    }\n",
       "\n",
       "    .dataframe tbody tr th {\n",
       "        vertical-align: top;\n",
       "    }\n",
       "\n",
       "    .dataframe thead th {\n",
       "        text-align: right;\n",
       "    }\n",
       "</style>\n",
       "<table border=\"1\" class=\"dataframe\">\n",
       "  <thead>\n",
       "    <tr style=\"text-align: right;\">\n",
       "      <th></th>\n",
       "      <th>emotion_gloomy</th>\n",
       "      <th>emotion_happy</th>\n",
       "      <th>emotion_peaceful</th>\n",
       "      <th>emotion_scary</th>\n",
       "      <th>media_3d_graphics</th>\n",
       "      <th>media_comic</th>\n",
       "      <th>media_graphite</th>\n",
       "      <th>media_oilpaint</th>\n",
       "      <th>media_pen_ink</th>\n",
       "      <th>media_vectorart</th>\n",
       "      <th>media_watercolor</th>\n",
       "    </tr>\n",
       "    <tr>\n",
       "      <th>mid</th>\n",
       "      <th></th>\n",
       "      <th></th>\n",
       "      <th></th>\n",
       "      <th></th>\n",
       "      <th></th>\n",
       "      <th></th>\n",
       "      <th></th>\n",
       "      <th></th>\n",
       "      <th></th>\n",
       "      <th></th>\n",
       "      <th></th>\n",
       "    </tr>\n",
       "  </thead>\n",
       "  <tbody>\n",
       "    <tr>\n",
       "      <th>489</th>\n",
       "      <td>-5.251916</td>\n",
       "      <td>-0.784109</td>\n",
       "      <td>-0.295248</td>\n",
       "      <td>-10.125443</td>\n",
       "      <td>-13.048631</td>\n",
       "      <td>-13.372336</td>\n",
       "      <td>-11.520514</td>\n",
       "      <td>-8.102950</td>\n",
       "      <td>-10.792016</td>\n",
       "      <td>-10.279009</td>\n",
       "      <td>-11.912029</td>\n",
       "    </tr>\n",
       "    <tr>\n",
       "      <th>1004</th>\n",
       "      <td>-1.939304</td>\n",
       "      <td>-5.214772</td>\n",
       "      <td>-3.770542</td>\n",
       "      <td>-4.781479</td>\n",
       "      <td>-10.137968</td>\n",
       "      <td>-9.871041</td>\n",
       "      <td>-8.218750</td>\n",
       "      <td>-9.769642</td>\n",
       "      <td>-9.929028</td>\n",
       "      <td>-9.538937</td>\n",
       "      <td>-17.242306</td>\n",
       "    </tr>\n",
       "    <tr>\n",
       "      <th>1053</th>\n",
       "      <td>-1.498988</td>\n",
       "      <td>-4.624222</td>\n",
       "      <td>-3.624131</td>\n",
       "      <td>-3.692783</td>\n",
       "      <td>-8.926823</td>\n",
       "      <td>-7.796127</td>\n",
       "      <td>-9.731888</td>\n",
       "      <td>-6.789311</td>\n",
       "      <td>-8.929226</td>\n",
       "      <td>-8.575558</td>\n",
       "      <td>-18.276842</td>\n",
       "    </tr>\n",
       "    <tr>\n",
       "      <th>1065</th>\n",
       "      <td>-0.523028</td>\n",
       "      <td>-5.766580</td>\n",
       "      <td>-3.715596</td>\n",
       "      <td>-3.109094</td>\n",
       "      <td>-6.108827</td>\n",
       "      <td>-9.137621</td>\n",
       "      <td>-7.905422</td>\n",
       "      <td>-7.122383</td>\n",
       "      <td>-8.709348</td>\n",
       "      <td>-8.250728</td>\n",
       "      <td>-16.156538</td>\n",
       "    </tr>\n",
       "    <tr>\n",
       "      <th>1067</th>\n",
       "      <td>-3.240254</td>\n",
       "      <td>-1.745344</td>\n",
       "      <td>-3.466125</td>\n",
       "      <td>-4.812078</td>\n",
       "      <td>-9.403267</td>\n",
       "      <td>-8.060266</td>\n",
       "      <td>-7.940952</td>\n",
       "      <td>-8.474461</td>\n",
       "      <td>-7.462641</td>\n",
       "      <td>-8.906570</td>\n",
       "      <td>-14.413774</td>\n",
       "    </tr>\n",
       "  </tbody>\n",
       "</table>\n",
       "</div>"
      ],
      "text/plain": [
       "      emotion_gloomy  emotion_happy  emotion_peaceful  emotion_scary  \\\n",
       "mid                                                                    \n",
       "489        -5.251916      -0.784109         -0.295248     -10.125443   \n",
       "1004       -1.939304      -5.214772         -3.770542      -4.781479   \n",
       "1053       -1.498988      -4.624222         -3.624131      -3.692783   \n",
       "1065       -0.523028      -5.766580         -3.715596      -3.109094   \n",
       "1067       -3.240254      -1.745344         -3.466125      -4.812078   \n",
       "\n",
       "      media_3d_graphics  media_comic  media_graphite  media_oilpaint  \\\n",
       "mid                                                                    \n",
       "489          -13.048631   -13.372336      -11.520514       -8.102950   \n",
       "1004         -10.137968    -9.871041       -8.218750       -9.769642   \n",
       "1053          -8.926823    -7.796127       -9.731888       -6.789311   \n",
       "1065          -6.108827    -9.137621       -7.905422       -7.122383   \n",
       "1067          -9.403267    -8.060266       -7.940952       -8.474461   \n",
       "\n",
       "      media_pen_ink  media_vectorart  media_watercolor  \n",
       "mid                                                     \n",
       "489      -10.792016       -10.279009        -11.912029  \n",
       "1004      -9.929028        -9.538937        -17.242306  \n",
       "1053      -8.929226        -8.575558        -18.276842  \n",
       "1065      -8.709348        -8.250728        -16.156538  \n",
       "1067      -7.462641        -8.906570        -14.413774  "
      ]
     },
     "execution_count": 19,
     "metadata": {},
     "output_type": "execute_result"
    }
   ],
   "source": [
    "def drop_cols(df, col_names, operation):\n",
    "    \"\"\"\n",
    "    Perform an operation to the column if the first part \n",
    "    of the name begins with a certain name.\n",
    "    Ex. The first part of content_bicycle is content\n",
    "    \n",
    "    :param df: dataframe \n",
    "    :type  df: pandas.core.frame.DataFrame\n",
    "    :param col_names: string to match\n",
    "    :type  col_names: str\n",
    "    :returns: dataframe \n",
    "    :rtype:   pandas.core.frame.DataFrame\n",
    "    \"\"\"\n",
    "    \n",
    "    for col in df.columns:\n",
    "        if col.split('_')[0] == col_names:\n",
    "            if operation == \"drop\":\n",
    "                df = df.drop([col], axis=1)\n",
    "            else:\n",
    "                raise ValueError(\"Not an avaliable action\")\n",
    "    \n",
    "    return df\n",
    "    \n",
    "# we are not considering content\n",
    "scores = drop_cols(scores, \"content\", \"drop\")\n",
    "scores.head()"
   ]
  },
  {
   "cell_type": "code",
   "execution_count": 20,
   "metadata": {
    "collapsed": true
   },
   "outputs": [],
   "source": [
    "def create_labels(df):\n",
    "    \"\"\"\n",
    "    Create the labels using the scores\n",
    "\n",
    "    :param df: dataframe \n",
    "    :type  df: pandas.core.frame.DataFrame\n",
    "    :returns: dataframe of the labels\n",
    "    :rtype:   pandas.core.frame.DataFrame\n",
    "    \"\"\"\n",
    "\n",
    "    emotion_df = pd.DataFrame()\n",
    "    media_df = pd.DataFrame()\n",
    "\n",
    "    for col in df.columns:\n",
    "        if col.split('_')[0] == \"emotion\":\n",
    "            emotion_df = pd.concat([emotion_df, df[col]], axis=1)\n",
    "        if col.split('_')[0] == \"media\":\n",
    "            media_df = pd.concat([media_df, df[col]], axis=1)\n",
    "\n",
    "    emotion_df.rename(\n",
    "        lambda x: x.split('_')[1],\n",
    "        axis='columns',\n",
    "        inplace=True\n",
    "    )\n",
    "    media_df.rename(\n",
    "        lambda x: x.split('_')[1],\n",
    "        axis='columns',\n",
    "        inplace=True\n",
    "    )\n",
    "\n",
    "    emotion_labels = emotion_df.idxmax(axis=1)\n",
    "    media_labels = media_df.idxmax(axis=1)\n",
    "\n",
    "    result = pd.DataFrame({\n",
    "        \"emotion\": emotion_labels,\n",
    "        \"medium\": media_labels\n",
    "    })\n",
    "\n",
    "    result = rm.convert_obj_columns_to_cat(result, {})\n",
    "#     print (result)\n",
    "    return result\n",
    "#     return emotion_labels, media_labels\n",
    "    # return emotion_df, media_df"
   ]
  },
  {
   "cell_type": "code",
   "execution_count": 21,
   "metadata": {},
   "outputs": [
    {
     "name": "stdout",
     "output_type": "stream",
     "text": [
      "converting emotion                        size:  26.63\t->\t 3.36\n",
      "converting medium                         size:  26.53\t->\t 3.36\n",
      "<class 'pandas.core.frame.DataFrame'>\n",
      "Int64Index: 372777 entries, 489 to 222446005\n",
      "Data columns (total 2 columns):\n",
      "emotion    372777 non-null category\n",
      "medium     372777 non-null category\n",
      "dtypes: category(2)\n",
      "memory usage: 3.6 MB\n"
     ]
    }
   ],
   "source": [
    "labels = create_labels(scores)\n",
    "labels.info()"
   ]
  },
  {
   "cell_type": "code",
   "execution_count": null,
   "metadata": {},
   "outputs": [],
   "source": []
  },
  {
   "cell_type": "code",
   "execution_count": null,
   "metadata": {
    "collapsed": true
   },
   "outputs": [],
   "source": []
  },
  {
   "cell_type": "markdown",
   "metadata": {},
   "source": [
    "## Merging"
   ]
  },
  {
   "cell_type": "code",
   "execution_count": 23,
   "metadata": {},
   "outputs": [
    {
     "data": {
      "text/html": [
       "<div>\n",
       "<style scoped>\n",
       "    .dataframe tbody tr th:only-of-type {\n",
       "        vertical-align: middle;\n",
       "    }\n",
       "\n",
       "    .dataframe tbody tr th {\n",
       "        vertical-align: top;\n",
       "    }\n",
       "\n",
       "    .dataframe thead th {\n",
       "        text-align: right;\n",
       "    }\n",
       "</style>\n",
       "<table border=\"1\" class=\"dataframe\">\n",
       "  <thead>\n",
       "    <tr style=\"text-align: right;\">\n",
       "      <th></th>\n",
       "      <th>mid</th>\n",
       "      <th>project_id</th>\n",
       "      <th>src</th>\n",
       "      <th>emotion</th>\n",
       "      <th>medium</th>\n",
       "    </tr>\n",
       "  </thead>\n",
       "  <tbody>\n",
       "    <tr>\n",
       "      <th>489</th>\n",
       "      <td>68111</td>\n",
       "      <td>49020</td>\n",
       "      <td>https://mir-s3-cdn-cf.behance.net/project_modu...</td>\n",
       "      <td>peaceful</td>\n",
       "      <td>oilpaint</td>\n",
       "    </tr>\n",
       "    <tr>\n",
       "      <th>1004</th>\n",
       "      <td>107729</td>\n",
       "      <td>55918</td>\n",
       "      <td>https://mir-s3-cdn-cf.behance.net/project_modu...</td>\n",
       "      <td>gloomy</td>\n",
       "      <td>graphite</td>\n",
       "    </tr>\n",
       "    <tr>\n",
       "      <th>1053</th>\n",
       "      <td>110651</td>\n",
       "      <td>56498</td>\n",
       "      <td>https://mir-s3-cdn-cf.behance.net/project_modu...</td>\n",
       "      <td>gloomy</td>\n",
       "      <td>oilpaint</td>\n",
       "    </tr>\n",
       "    <tr>\n",
       "      <th>1065</th>\n",
       "      <td>111121</td>\n",
       "      <td>56608</td>\n",
       "      <td>https://mir-s3-cdn-cf.behance.net/project_modu...</td>\n",
       "      <td>gloomy</td>\n",
       "      <td>3d</td>\n",
       "    </tr>\n",
       "    <tr>\n",
       "      <th>1067</th>\n",
       "      <td>111317</td>\n",
       "      <td>56245</td>\n",
       "      <td>https://mir-s3-cdn-cf.behance.net/project_modu...</td>\n",
       "      <td>happy</td>\n",
       "      <td>pen</td>\n",
       "    </tr>\n",
       "  </tbody>\n",
       "</table>\n",
       "</div>"
      ],
      "text/plain": [
       "         mid  project_id                                                src  \\\n",
       "489    68111       49020  https://mir-s3-cdn-cf.behance.net/project_modu...   \n",
       "1004  107729       55918  https://mir-s3-cdn-cf.behance.net/project_modu...   \n",
       "1053  110651       56498  https://mir-s3-cdn-cf.behance.net/project_modu...   \n",
       "1065  111121       56608  https://mir-s3-cdn-cf.behance.net/project_modu...   \n",
       "1067  111317       56245  https://mir-s3-cdn-cf.behance.net/project_modu...   \n",
       "\n",
       "       emotion    medium  \n",
       "489   peaceful  oilpaint  \n",
       "1004    gloomy  graphite  \n",
       "1053    gloomy  oilpaint  \n",
       "1065    gloomy        3d  \n",
       "1067     happy       pen  "
      ]
     },
     "execution_count": 23,
     "metadata": {},
     "output_type": "execute_result"
    }
   ],
   "source": [
    "result = pd.concat([modules_compressed, labels], axis=1,join='inner')\n",
    "result.head()"
   ]
  },
  {
   "cell_type": "code",
   "execution_count": 24,
   "metadata": {},
   "outputs": [
    {
     "name": "stdout",
     "output_type": "stream",
     "text": [
      "<class 'pandas.core.frame.DataFrame'>\n",
      "Int64Index: 4010 entries, 489 to 389030\n",
      "Data columns (total 5 columns):\n",
      "mid           4010 non-null int32\n",
      "project_id    4010 non-null int32\n",
      "src           4010 non-null object\n",
      "emotion       4010 non-null category\n",
      "medium        4010 non-null category\n",
      "dtypes: category(2), int32(2), object(1)\n",
      "memory usage: 102.4+ KB\n"
     ]
    }
   ],
   "source": [
    "result.info()"
   ]
  },
  {
   "cell_type": "code",
   "execution_count": 25,
   "metadata": {
    "collapsed": true
   },
   "outputs": [],
   "source": [
    "result.to_pickle('../data/processed_data.pkl')"
   ]
  },
  {
   "cell_type": "code",
   "execution_count": 26,
   "metadata": {},
   "outputs": [
    {
     "name": "stdout",
     "output_type": "stream",
     "text": [
      "<class 'pandas.core.frame.DataFrame'>\n",
      "Int64Index: 4010 entries, 489 to 389030\n",
      "Data columns (total 5 columns):\n",
      "mid           4010 non-null int32\n",
      "project_id    4010 non-null int32\n",
      "src           4010 non-null object\n",
      "emotion       4010 non-null category\n",
      "medium        4010 non-null category\n",
      "dtypes: category(2), int32(2), object(1)\n",
      "memory usage: 101.9+ KB\n"
     ]
    }
   ],
   "source": [
    "opened = pd.read_pickle('../data/processed_data.pkl')\n",
    "opened.info()"
   ]
  },
  {
   "cell_type": "code",
   "execution_count": 27,
   "metadata": {},
   "outputs": [],
   "source": [
    "import preprocess"
   ]
  },
  {
   "cell_type": "markdown",
   "metadata": {},
   "source": [
    "## Crowd Source Labels"
   ]
  },
  {
   "cell_type": "code",
   "execution_count": 28,
   "metadata": {
    "collapsed": true
   },
   "outputs": [],
   "source": [
    "crowd_labels = pd.read_sql(\n",
    "    \"select * from crowd_labels\",\n",
    "    connection,\n",
    "    index_col=\"mid\"\n",
    ")"
   ]
  },
  {
   "cell_type": "code",
   "execution_count": 29,
   "metadata": {
    "collapsed": true
   },
   "outputs": [],
   "source": [
    "classes = crowd_labels['attribute'].apply(lambda x: x.split('_')[0])"
   ]
  },
  {
   "cell_type": "code",
   "execution_count": 30,
   "metadata": {},
   "outputs": [
    {
     "data": {
      "text/html": [
       "<div>\n",
       "<style scoped>\n",
       "    .dataframe tbody tr th:only-of-type {\n",
       "        vertical-align: middle;\n",
       "    }\n",
       "\n",
       "    .dataframe tbody tr th {\n",
       "        vertical-align: top;\n",
       "    }\n",
       "\n",
       "    .dataframe thead th {\n",
       "        text-align: right;\n",
       "    }\n",
       "</style>\n",
       "<table border=\"1\" class=\"dataframe\">\n",
       "  <thead>\n",
       "    <tr style=\"text-align: right;\">\n",
       "      <th></th>\n",
       "      <th>attribute</th>\n",
       "      <th>label</th>\n",
       "    </tr>\n",
       "    <tr>\n",
       "      <th>mid</th>\n",
       "      <th></th>\n",
       "      <th></th>\n",
       "    </tr>\n",
       "  </thead>\n",
       "  <tbody>\n",
       "    <tr>\n",
       "      <th>152469509</th>\n",
       "      <td>emotion_happy</td>\n",
       "      <td>positive</td>\n",
       "    </tr>\n",
       "    <tr>\n",
       "      <th>115802119</th>\n",
       "      <td>emotion_happy</td>\n",
       "      <td>positive</td>\n",
       "    </tr>\n",
       "    <tr>\n",
       "      <th>145489929</th>\n",
       "      <td>emotion_happy</td>\n",
       "      <td>positive</td>\n",
       "    </tr>\n",
       "    <tr>\n",
       "      <th>143785995</th>\n",
       "      <td>emotion_happy</td>\n",
       "      <td>positive</td>\n",
       "    </tr>\n",
       "    <tr>\n",
       "      <th>99428137</th>\n",
       "      <td>emotion_happy</td>\n",
       "      <td>positive</td>\n",
       "    </tr>\n",
       "  </tbody>\n",
       "</table>\n",
       "</div>"
      ],
      "text/plain": [
       "               attribute     label\n",
       "mid                               \n",
       "152469509  emotion_happy  positive\n",
       "115802119  emotion_happy  positive\n",
       "145489929  emotion_happy  positive\n",
       "143785995  emotion_happy  positive\n",
       "99428137   emotion_happy  positive"
      ]
     },
     "execution_count": 30,
     "metadata": {},
     "output_type": "execute_result"
    }
   ],
   "source": [
    "crowd_labels.loc[classes != \"content\"].head()"
   ]
  },
  {
   "cell_type": "code",
   "execution_count": 31,
   "metadata": {},
   "outputs": [
    {
     "name": "stdout",
     "output_type": "stream",
     "text": [
      "<class 'pandas.core.frame.DataFrame'>\n",
      "Int64Index: 393022 entries, 2588676 to 111747071\n",
      "Data columns (total 2 columns):\n",
      "attribute    393022 non-null object\n",
      "label        393022 non-null object\n",
      "dtypes: object(2)\n",
      "memory usage: 9.0+ MB\n"
     ]
    }
   ],
   "source": [
    "crowd_labels.info()"
   ]
  },
  {
   "cell_type": "code",
   "execution_count": 32,
   "metadata": {},
   "outputs": [
    {
     "data": {
      "text/plain": [
       "array(['content_building', 'emotion_happy', 'content_flower',\n",
       "       'content_bicycle', 'media_comic', 'content_people',\n",
       "       'media_3d_graphics', 'content_dog', 'media_vectorart',\n",
       "       'emotion_scary', 'emotion_gloomy', 'media_graphite',\n",
       "       'emotion_peaceful', 'media_pen_ink', 'content_cars',\n",
       "       'media_oilpaint', 'content_cat', 'content_tree', 'content_bird',\n",
       "       'media_watercolor'], dtype=object)"
      ]
     },
     "execution_count": 32,
     "metadata": {},
     "output_type": "execute_result"
    }
   ],
   "source": [
    "crowd_labels['attribute'].unique()"
   ]
  },
  {
   "cell_type": "code",
   "execution_count": 33,
   "metadata": {},
   "outputs": [
    {
     "name": "stdout",
     "output_type": "stream",
     "text": [
      "converting attribute                      size:  30.9\t->\t 3.54\n",
      "converting label                          size:  28.52\t->\t 3.54\n"
     ]
    }
   ],
   "source": [
    "crowd_labels = rm.convert_obj_columns_to_cat (crowd_labels, {})"
   ]
  },
  {
   "cell_type": "code",
   "execution_count": 34,
   "metadata": {},
   "outputs": [
    {
     "name": "stdout",
     "output_type": "stream",
     "text": [
      "<class 'pandas.core.frame.DataFrame'>\n",
      "Int64Index: 393022 entries, 2588676 to 111747071\n",
      "Data columns (total 2 columns):\n",
      "attribute    393022 non-null category\n",
      "label        393022 non-null category\n",
      "dtypes: category(2)\n",
      "memory usage: 3.7 MB\n"
     ]
    }
   ],
   "source": [
    "crowd_labels.info()"
   ]
  },
  {
   "cell_type": "code",
   "execution_count": 35,
   "metadata": {},
   "outputs": [
    {
     "data": {
      "text/html": [
       "<div>\n",
       "<style scoped>\n",
       "    .dataframe tbody tr th:only-of-type {\n",
       "        vertical-align: middle;\n",
       "    }\n",
       "\n",
       "    .dataframe tbody tr th {\n",
       "        vertical-align: top;\n",
       "    }\n",
       "\n",
       "    .dataframe thead th {\n",
       "        text-align: right;\n",
       "    }\n",
       "</style>\n",
       "<table border=\"1\" class=\"dataframe\">\n",
       "  <thead>\n",
       "    <tr style=\"text-align: right;\">\n",
       "      <th></th>\n",
       "      <th>attribute</th>\n",
       "      <th>label</th>\n",
       "    </tr>\n",
       "    <tr>\n",
       "      <th>mid</th>\n",
       "      <th></th>\n",
       "      <th></th>\n",
       "    </tr>\n",
       "  </thead>\n",
       "  <tbody>\n",
       "    <tr>\n",
       "      <th>2588676</th>\n",
       "      <td>content_building</td>\n",
       "      <td>positive</td>\n",
       "    </tr>\n",
       "    <tr>\n",
       "      <th>146997253</th>\n",
       "      <td>content_building</td>\n",
       "      <td>positive</td>\n",
       "    </tr>\n",
       "    <tr>\n",
       "      <th>15663110</th>\n",
       "      <td>content_building</td>\n",
       "      <td>positive</td>\n",
       "    </tr>\n",
       "    <tr>\n",
       "      <th>15663114</th>\n",
       "      <td>content_building</td>\n",
       "      <td>positive</td>\n",
       "    </tr>\n",
       "    <tr>\n",
       "      <th>2588684</th>\n",
       "      <td>content_building</td>\n",
       "      <td>positive</td>\n",
       "    </tr>\n",
       "  </tbody>\n",
       "</table>\n",
       "</div>"
      ],
      "text/plain": [
       "                  attribute     label\n",
       "mid                                  \n",
       "2588676    content_building  positive\n",
       "146997253  content_building  positive\n",
       "15663110   content_building  positive\n",
       "15663114   content_building  positive\n",
       "2588684    content_building  positive"
      ]
     },
     "execution_count": 35,
     "metadata": {},
     "output_type": "execute_result"
    }
   ],
   "source": [
    "crowd_labels.head()"
   ]
  },
  {
   "cell_type": "code",
   "execution_count": 36,
   "metadata": {
    "collapsed": true
   },
   "outputs": [],
   "source": [
    "# modules_compressed\n",
    "crowd_labels.sort_index(inplace=True)"
   ]
  },
  {
   "cell_type": "code",
   "execution_count": 43,
   "metadata": {},
   "outputs": [
    {
     "name": "stdout",
     "output_type": "stream",
     "text": [
      "(389040, 3)\n",
      "(393022, 2)\n"
     ]
    }
   ],
   "source": [
    "print (modules_compressed.shape)\n",
    "print (crowd_labels.shape)"
   ]
  },
  {
   "cell_type": "code",
   "execution_count": 54,
   "metadata": {},
   "outputs": [],
   "source": [
    "modules_compressed.set_index(['mid'], inplace=True)"
   ]
  },
  {
   "cell_type": "code",
   "execution_count": 55,
   "metadata": {},
   "outputs": [
    {
     "data": {
      "text/html": [
       "<div>\n",
       "<style scoped>\n",
       "    .dataframe tbody tr th:only-of-type {\n",
       "        vertical-align: middle;\n",
       "    }\n",
       "\n",
       "    .dataframe tbody tr th {\n",
       "        vertical-align: top;\n",
       "    }\n",
       "\n",
       "    .dataframe thead th {\n",
       "        text-align: right;\n",
       "    }\n",
       "</style>\n",
       "<table border=\"1\" class=\"dataframe\">\n",
       "  <thead>\n",
       "    <tr style=\"text-align: right;\">\n",
       "      <th></th>\n",
       "      <th>project_id</th>\n",
       "      <th>src</th>\n",
       "    </tr>\n",
       "    <tr>\n",
       "      <th>mid</th>\n",
       "      <th></th>\n",
       "      <th></th>\n",
       "    </tr>\n",
       "  </thead>\n",
       "  <tbody>\n",
       "    <tr>\n",
       "      <th>489</th>\n",
       "      <td>40030</td>\n",
       "      <td>https://mir-s3-cdn-cf.behance.net/project_modu...</td>\n",
       "    </tr>\n",
       "    <tr>\n",
       "      <th>1004</th>\n",
       "      <td>40040</td>\n",
       "      <td>https://mir-s3-cdn-cf.behance.net/project_modu...</td>\n",
       "    </tr>\n",
       "    <tr>\n",
       "      <th>1053</th>\n",
       "      <td>40041</td>\n",
       "      <td>https://mir-s3-cdn-cf.behance.net/project_modu...</td>\n",
       "    </tr>\n",
       "    <tr>\n",
       "      <th>1065</th>\n",
       "      <td>40041</td>\n",
       "      <td>https://mir-s3-cdn-cf.behance.net/project_modu...</td>\n",
       "    </tr>\n",
       "    <tr>\n",
       "      <th>1067</th>\n",
       "      <td>40043</td>\n",
       "      <td>https://mir-s3-cdn-cf.behance.net/project_modu...</td>\n",
       "    </tr>\n",
       "  </tbody>\n",
       "</table>\n",
       "</div>"
      ],
      "text/plain": [
       "      project_id                                                src\n",
       "mid                                                                \n",
       "489        40030  https://mir-s3-cdn-cf.behance.net/project_modu...\n",
       "1004       40040  https://mir-s3-cdn-cf.behance.net/project_modu...\n",
       "1053       40041  https://mir-s3-cdn-cf.behance.net/project_modu...\n",
       "1065       40041  https://mir-s3-cdn-cf.behance.net/project_modu...\n",
       "1067       40043  https://mir-s3-cdn-cf.behance.net/project_modu..."
      ]
     },
     "execution_count": 55,
     "metadata": {},
     "output_type": "execute_result"
    }
   ],
   "source": [
    "modules_compressed.head()"
   ]
  },
  {
   "cell_type": "code",
   "execution_count": 46,
   "metadata": {},
   "outputs": [
    {
     "data": {
      "text/html": [
       "<div>\n",
       "<style scoped>\n",
       "    .dataframe tbody tr th:only-of-type {\n",
       "        vertical-align: middle;\n",
       "    }\n",
       "\n",
       "    .dataframe tbody tr th {\n",
       "        vertical-align: top;\n",
       "    }\n",
       "\n",
       "    .dataframe thead th {\n",
       "        text-align: right;\n",
       "    }\n",
       "</style>\n",
       "<table border=\"1\" class=\"dataframe\">\n",
       "  <thead>\n",
       "    <tr style=\"text-align: right;\">\n",
       "      <th></th>\n",
       "      <th>attribute</th>\n",
       "      <th>label</th>\n",
       "    </tr>\n",
       "    <tr>\n",
       "      <th>mid</th>\n",
       "      <th></th>\n",
       "      <th></th>\n",
       "    </tr>\n",
       "  </thead>\n",
       "  <tbody>\n",
       "    <tr>\n",
       "      <th>489</th>\n",
       "      <td>emotion_peaceful</td>\n",
       "      <td>positive</td>\n",
       "    </tr>\n",
       "    <tr>\n",
       "      <th>1053</th>\n",
       "      <td>emotion_peaceful</td>\n",
       "      <td>unsure</td>\n",
       "    </tr>\n",
       "    <tr>\n",
       "      <th>1065</th>\n",
       "      <td>emotion_gloomy</td>\n",
       "      <td>unsure</td>\n",
       "    </tr>\n",
       "    <tr>\n",
       "      <th>1067</th>\n",
       "      <td>emotion_peaceful</td>\n",
       "      <td>unsure</td>\n",
       "    </tr>\n",
       "    <tr>\n",
       "      <th>1247</th>\n",
       "      <td>media_oilpaint</td>\n",
       "      <td>negative</td>\n",
       "    </tr>\n",
       "  </tbody>\n",
       "</table>\n",
       "</div>"
      ],
      "text/plain": [
       "             attribute     label\n",
       "mid                             \n",
       "489   emotion_peaceful  positive\n",
       "1053  emotion_peaceful    unsure\n",
       "1065    emotion_gloomy    unsure\n",
       "1067  emotion_peaceful    unsure\n",
       "1247    media_oilpaint  negative"
      ]
     },
     "execution_count": 46,
     "metadata": {},
     "output_type": "execute_result"
    }
   ],
   "source": [
    "crowd_labels.head()"
   ]
  },
  {
   "cell_type": "code",
   "execution_count": 60,
   "metadata": {},
   "outputs": [
    {
     "data": {
      "text/html": [
       "<div>\n",
       "<style scoped>\n",
       "    .dataframe tbody tr th:only-of-type {\n",
       "        vertical-align: middle;\n",
       "    }\n",
       "\n",
       "    .dataframe tbody tr th {\n",
       "        vertical-align: top;\n",
       "    }\n",
       "\n",
       "    .dataframe thead th {\n",
       "        text-align: right;\n",
       "    }\n",
       "</style>\n",
       "<table border=\"1\" class=\"dataframe\">\n",
       "  <thead>\n",
       "    <tr style=\"text-align: right;\">\n",
       "      <th></th>\n",
       "      <th>project_id</th>\n",
       "      <th>src</th>\n",
       "      <th>attribute</th>\n",
       "      <th>label</th>\n",
       "    </tr>\n",
       "    <tr>\n",
       "      <th>mid</th>\n",
       "      <th></th>\n",
       "      <th></th>\n",
       "      <th></th>\n",
       "      <th></th>\n",
       "    </tr>\n",
       "  </thead>\n",
       "  <tbody>\n",
       "    <tr>\n",
       "      <th>489</th>\n",
       "      <td>40030</td>\n",
       "      <td>https://mir-s3-cdn-cf.behance.net/project_modu...</td>\n",
       "      <td>emotion_peaceful</td>\n",
       "      <td>positive</td>\n",
       "    </tr>\n",
       "    <tr>\n",
       "      <th>1053</th>\n",
       "      <td>40041</td>\n",
       "      <td>https://mir-s3-cdn-cf.behance.net/project_modu...</td>\n",
       "      <td>emotion_peaceful</td>\n",
       "      <td>unsure</td>\n",
       "    </tr>\n",
       "    <tr>\n",
       "      <th>1065</th>\n",
       "      <td>40041</td>\n",
       "      <td>https://mir-s3-cdn-cf.behance.net/project_modu...</td>\n",
       "      <td>emotion_gloomy</td>\n",
       "      <td>unsure</td>\n",
       "    </tr>\n",
       "    <tr>\n",
       "      <th>1067</th>\n",
       "      <td>40043</td>\n",
       "      <td>https://mir-s3-cdn-cf.behance.net/project_modu...</td>\n",
       "      <td>emotion_peaceful</td>\n",
       "      <td>unsure</td>\n",
       "    </tr>\n",
       "    <tr>\n",
       "      <th>1247</th>\n",
       "      <td>40053</td>\n",
       "      <td>https://mir-s3-cdn-cf.behance.net/project_modu...</td>\n",
       "      <td>media_oilpaint</td>\n",
       "      <td>negative</td>\n",
       "    </tr>\n",
       "  </tbody>\n",
       "</table>\n",
       "</div>"
      ],
      "text/plain": [
       "      project_id                                                src  \\\n",
       "mid                                                                   \n",
       "489        40030  https://mir-s3-cdn-cf.behance.net/project_modu...   \n",
       "1053       40041  https://mir-s3-cdn-cf.behance.net/project_modu...   \n",
       "1065       40041  https://mir-s3-cdn-cf.behance.net/project_modu...   \n",
       "1067       40043  https://mir-s3-cdn-cf.behance.net/project_modu...   \n",
       "1247       40053  https://mir-s3-cdn-cf.behance.net/project_modu...   \n",
       "\n",
       "             attribute     label  \n",
       "mid                               \n",
       "489   emotion_peaceful  positive  \n",
       "1053  emotion_peaceful    unsure  \n",
       "1065    emotion_gloomy    unsure  \n",
       "1067  emotion_peaceful    unsure  \n",
       "1247    media_oilpaint  negative  "
      ]
     },
     "execution_count": 60,
     "metadata": {},
     "output_type": "execute_result"
    }
   ],
   "source": [
    "crowd_labels_merged = pd.concat([modules_compressed, crowd_labels], axis=1, join='inner')\n",
    "crowd_labels_merged.head()"
   ]
  },
  {
   "cell_type": "code",
   "execution_count": 57,
   "metadata": {},
   "outputs": [
    {
     "name": "stdout",
     "output_type": "stream",
     "text": [
      "<class 'pandas.core.frame.DataFrame'>\n",
      "Int64Index: 393022 entries, 489 to 222446005\n",
      "Data columns (total 4 columns):\n",
      "project_id    393022 non-null int32\n",
      "src           393022 non-null object\n",
      "attribute     393022 non-null category\n",
      "label         393022 non-null category\n",
      "dtypes: category(2), int32(1), object(1)\n",
      "memory usage: 8.2+ MB\n"
     ]
    }
   ],
   "source": [
    "opened = pd.read_pickle('../data/processed_data_crowd.pkl')\n",
    "opened.info()"
   ]
  },
  {
   "cell_type": "code",
   "execution_count": 58,
   "metadata": {},
   "outputs": [
    {
     "data": {
      "text/html": [
       "<div>\n",
       "<style scoped>\n",
       "    .dataframe tbody tr th:only-of-type {\n",
       "        vertical-align: middle;\n",
       "    }\n",
       "\n",
       "    .dataframe tbody tr th {\n",
       "        vertical-align: top;\n",
       "    }\n",
       "\n",
       "    .dataframe thead th {\n",
       "        text-align: right;\n",
       "    }\n",
       "</style>\n",
       "<table border=\"1\" class=\"dataframe\">\n",
       "  <thead>\n",
       "    <tr style=\"text-align: right;\">\n",
       "      <th></th>\n",
       "      <th>project_id</th>\n",
       "      <th>src</th>\n",
       "      <th>attribute</th>\n",
       "      <th>label</th>\n",
       "    </tr>\n",
       "    <tr>\n",
       "      <th>mid</th>\n",
       "      <th></th>\n",
       "      <th></th>\n",
       "      <th></th>\n",
       "      <th></th>\n",
       "    </tr>\n",
       "  </thead>\n",
       "  <tbody>\n",
       "    <tr>\n",
       "      <th>489</th>\n",
       "      <td>40030</td>\n",
       "      <td>https://mir-s3-cdn-cf.behance.net/project_modu...</td>\n",
       "      <td>emotion_peaceful</td>\n",
       "      <td>positive</td>\n",
       "    </tr>\n",
       "    <tr>\n",
       "      <th>1053</th>\n",
       "      <td>40041</td>\n",
       "      <td>https://mir-s3-cdn-cf.behance.net/project_modu...</td>\n",
       "      <td>emotion_peaceful</td>\n",
       "      <td>unsure</td>\n",
       "    </tr>\n",
       "    <tr>\n",
       "      <th>1065</th>\n",
       "      <td>40041</td>\n",
       "      <td>https://mir-s3-cdn-cf.behance.net/project_modu...</td>\n",
       "      <td>emotion_gloomy</td>\n",
       "      <td>unsure</td>\n",
       "    </tr>\n",
       "    <tr>\n",
       "      <th>1067</th>\n",
       "      <td>40043</td>\n",
       "      <td>https://mir-s3-cdn-cf.behance.net/project_modu...</td>\n",
       "      <td>emotion_peaceful</td>\n",
       "      <td>unsure</td>\n",
       "    </tr>\n",
       "    <tr>\n",
       "      <th>1247</th>\n",
       "      <td>40053</td>\n",
       "      <td>https://mir-s3-cdn-cf.behance.net/project_modu...</td>\n",
       "      <td>media_oilpaint</td>\n",
       "      <td>negative</td>\n",
       "    </tr>\n",
       "  </tbody>\n",
       "</table>\n",
       "</div>"
      ],
      "text/plain": [
       "      project_id                                                src  \\\n",
       "mid                                                                   \n",
       "489        40030  https://mir-s3-cdn-cf.behance.net/project_modu...   \n",
       "1053       40041  https://mir-s3-cdn-cf.behance.net/project_modu...   \n",
       "1065       40041  https://mir-s3-cdn-cf.behance.net/project_modu...   \n",
       "1067       40043  https://mir-s3-cdn-cf.behance.net/project_modu...   \n",
       "1247       40053  https://mir-s3-cdn-cf.behance.net/project_modu...   \n",
       "\n",
       "             attribute     label  \n",
       "mid                               \n",
       "489   emotion_peaceful  positive  \n",
       "1053  emotion_peaceful    unsure  \n",
       "1065    emotion_gloomy    unsure  \n",
       "1067  emotion_peaceful    unsure  \n",
       "1247    media_oilpaint  negative  "
      ]
     },
     "execution_count": 58,
     "metadata": {},
     "output_type": "execute_result"
    }
   ],
   "source": [
    "opened.head()"
   ]
  },
  {
   "cell_type": "code",
   "execution_count": null,
   "metadata": {
    "collapsed": true
   },
   "outputs": [],
   "source": []
  }
 ],
 "metadata": {
  "kernelspec": {
   "display_name": "Python 3",
   "language": "python",
   "name": "python3"
  },
  "language_info": {
   "codemirror_mode": {
    "name": "ipython",
    "version": 3
   },
   "file_extension": ".py",
   "mimetype": "text/x-python",
   "name": "python",
   "nbconvert_exporter": "python",
   "pygments_lexer": "ipython3",
   "version": "3.6.3"
  },
  "toc": {
   "base_numbering": 1,
   "nav_menu": {},
   "number_sections": true,
   "sideBar": true,
   "skip_h1_title": false,
   "title_cell": "Table of Contents",
   "title_sidebar": "Contents",
   "toc_cell": false,
   "toc_position": {},
   "toc_section_display": true,
   "toc_window_display": false
  }
 },
 "nbformat": 4,
 "nbformat_minor": 2
}
